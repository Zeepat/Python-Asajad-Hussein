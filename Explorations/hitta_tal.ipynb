{
 "cells": [
  {
   "cell_type": "markdown",
   "metadata": {},
   "source": [
    "Hitta tal i detta tal: 29535123p48723487597645723645"
   ]
  },
  {
   "cell_type": "code",
   "execution_count": 6,
   "metadata": {},
   "outputs": [
    {
     "ename": "ModuleNotFoundError",
     "evalue": "No module named 'colorama'",
     "output_type": "error",
     "traceback": [
      "\u001b[0;31m---------------------------------------------------------------------------\u001b[0m",
      "\u001b[0;31mModuleNotFoundError\u001b[0m                       Traceback (most recent call last)",
      "Cell \u001b[0;32mIn[6], line 1\u001b[0m\n\u001b[0;32m----> 1\u001b[0m \u001b[39mfrom\u001b[39;00m \u001b[39mcolorama\u001b[39;00m \u001b[39mimport\u001b[39;00m Fore, Back, Style\n\u001b[1;32m      2\u001b[0m user_input \u001b[39m=\u001b[39m \u001b[39minput\u001b[39m(\u001b[39m\"\u001b[39m\u001b[39mEnter\u001b[39m\u001b[39m\"\u001b[39m)\n\u001b[1;32m      3\u001b[0m numbers \u001b[39m=\u001b[39m \u001b[39m\"\u001b[39m\u001b[39m0123456789\u001b[39m\u001b[39m\"\u001b[39m\n",
      "\u001b[0;31mModuleNotFoundError\u001b[0m: No module named 'colorama'"
     ]
    }
   ],
   "source": [
    "from colorama import Fore, Back, Style\n",
    "user_input = input(\"Enter\")\n",
    "numbers = \"0123456789\"\n",
    "initial_char = \"\"\n",
    "char_index_1 = 0\n",
    "for char_1 in user_input:\n",
    "    if char_1 in numbers:\n",
    "        initial_char = char_1\n",
    "        substring_index = char_index_1+1\n",
    "        char_index_2 = substring_index\n",
    "        for char_2 in user_input[substring_index:]:\n",
    "            if char_2 not in numbers:\n",
    "                break\n",
    "            else:\n",
    "                if char_2 == char_1:\n",
    "                    print(user_input[char_index_1:char_index_2+1])\n",
    "                    break\n",
    "                else:\n",
    "                    char_index_2 += 1 \n",
    "    char_index_1 += 1\n",
    "            "
   ]
  }
 ],
 "metadata": {
  "kernelspec": {
   "display_name": "Python 3",
   "language": "python",
   "name": "python3"
  },
  "language_info": {
   "codemirror_mode": {
    "name": "ipython",
    "version": 3
   },
   "file_extension": ".py",
   "mimetype": "text/x-python",
   "name": "python",
   "nbconvert_exporter": "python",
   "pygments_lexer": "ipython3",
   "version": "3.11.2"
  },
  "orig_nbformat": 4
 },
 "nbformat": 4,
 "nbformat_minor": 2
}
