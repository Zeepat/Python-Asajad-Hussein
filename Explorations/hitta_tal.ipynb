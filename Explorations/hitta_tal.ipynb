{
 "cells": [
  {
   "cell_type": "markdown",
   "metadata": {},
   "source": [
    "Hitta tal i detta tal: 29535123p48723487597645723645"
   ]
  },
  {
   "cell_type": "code",
   "execution_count": 8,
   "metadata": {},
   "outputs": [
    {
     "name": "stdout",
     "output_type": "stream",
     "text": [
      "\u001b[37m\u001b[31m2953512\u001b[37m3p48723487597645723645\n",
      "\u001b[37m29\u001b[31m535\u001b[37m123p48723487597645723645\n",
      "\u001b[37m295\u001b[31m35123\u001b[37mp48723487597645723645\n",
      "\u001b[37m29535123p\u001b[31m487234\u001b[37m87597645723645\n",
      "\u001b[37m29535123p4\u001b[31m872348\u001b[37m7597645723645\n",
      "\u001b[37m29535123p48\u001b[31m723487\u001b[37m597645723645\n",
      "\u001b[37m29535123p487\u001b[31m2348759764572\u001b[37m3645\n",
      "\u001b[37m29535123p4872\u001b[31m3487597645723\u001b[37m645\n",
      "\u001b[37m29535123p48723\u001b[31m48759764\u001b[37m5723645\n",
      "\u001b[37m29535123p4872348\u001b[31m7597\u001b[37m645723645\n",
      "\u001b[37m29535123p48723487\u001b[31m597645\u001b[37m723645\n",
      "\u001b[37m29535123p4872348759\u001b[31m76457\u001b[37m23645\n",
      "\u001b[37m29535123p48723487597\u001b[31m6457236\u001b[37m45\n",
      "\u001b[37m29535123p487234875976\u001b[31m4572364\u001b[37m5\n",
      "\u001b[37m29535123p4872348759764\u001b[31m5723645\u001b[37m\n"
     ]
    }
   ],
   "source": [
    "from colorama import Fore, Back, Style\n",
    "user_input = input(\"Enter your prompt\")\n",
    "numbers = \"0123456789\"\n",
    "initial_char = \"\"\n",
    "char_index_1 = 0\n",
    "for char_1 in user_input:\n",
    "    if char_1 in numbers:\n",
    "        initial_char = char_1\n",
    "        substring_index = char_index_1+1\n",
    "        char_index_2 = substring_index\n",
    "        for char_2 in user_input[substring_index:]:\n",
    "            if char_2 not in numbers:\n",
    "                break\n",
    "            else:\n",
    "                if char_2 == char_1:\n",
    "                    print(f'{Fore.WHITE+user_input[:char_index_1]}{Fore.RED+user_input[char_index_1:char_index_2+1]}{Fore.WHITE+user_input[char_index_2+1:]}')\n",
    "                    break\n",
    "                else:\n",
    "                    char_index_2 += 1 \n",
    "    char_index_1 += 1\n",
    "            "
   ]
  }
 ],
 "metadata": {
  "kernelspec": {
   "display_name": "Python 3",
   "language": "python",
   "name": "python3"
  },
  "language_info": {
   "codemirror_mode": {
    "name": "ipython",
    "version": 3
   },
   "file_extension": ".py",
   "mimetype": "text/x-python",
   "name": "python",
   "nbconvert_exporter": "python",
   "pygments_lexer": "ipython3",
   "version": "3.11.5"
  },
  "orig_nbformat": 4
 },
 "nbformat": 4,
 "nbformat_minor": 2
}
