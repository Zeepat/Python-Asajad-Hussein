{
 "cells": [
  {
   "cell_type": "markdown",
   "metadata": {},
   "source": [
    "# Exercise 1"
   ]
  },
  {
   "cell_type": "code",
   "execution_count": 17,
   "metadata": {},
   "outputs": [
    {
     "name": "stdout",
     "output_type": "stream",
     "text": [
      "1111\n"
     ]
    }
   ],
   "source": [
    "class Step_counter:\n",
    "    def __init__(self, steps = 0):\n",
    "        self.steps = steps\n",
    "    \n",
    "    @property\n",
    "    def increase_steps(self):\n",
    "        return self._steps\n",
    "\n",
    "    def increase_steps(self, n):\n",
    "        for i in range(n):\n",
    "            self.steps += 1\n",
    "\n",
    "my_steps = Step_counter()\n",
    "\n",
    "my_steps.increase_steps(1)\n",
    "my_steps.increase_steps(10)\n",
    "my_steps.increase_steps(100)\n",
    "my_steps.increase_steps(1000)\n",
    "\n",
    "print(my_steps.steps)\n"
   ]
  },
  {
   "cell_type": "markdown",
   "metadata": {},
   "source": [
    "# Exercise 2"
   ]
  },
  {
   "cell_type": "code",
   "execution_count": 2,
   "metadata": {},
   "outputs": [
    {
     "name": "stdout",
     "output_type": "stream",
     "text": [
      "The glass is already empty\n",
      "Filling the glass with water\n",
      "The glass is already full\n",
      "Emptying the glass\n",
      "The glass breaks. Now there is water all over the floor\n",
      "The glass can not be filled, since it's broken\n",
      "The glass can not be emptied, since it's broken\n"
     ]
    }
   ],
   "source": [
    "class Glass:\n",
    "    def __init__(self, water_level = 0):\n",
    "        self.water_level = water_level\n",
    "\n",
    "    def fill(self):\n",
    "        if self.water_level == 1:\n",
    "            print(\"The glass is already full\")\n",
    "        elif self.water_level == 0:\n",
    "            self.water_level = 1\n",
    "            print(\"Filling the glass with water\")\n",
    "        else:\n",
    "            print(\"The glass can not be filled, since it's broken\")\n",
    "\n",
    "    def empty(self):\n",
    "        if self.water_level == 0:\n",
    "            print(\"The glass is already empty\")\n",
    "        elif self.water_level == 1:\n",
    "            self.water_level = 0\n",
    "            print(\"Emptying the glass\")\n",
    "        else:\n",
    "            print(\"The glass can not be emptied, since it's broken\")\n",
    "        \n",
    "    def break_glass(self):\n",
    "        self.water_level = -1\n",
    "        print(\"The glass breaks. Now there is water all over the floor\")\n",
    "        \n",
    "my_glass = Glass()\n",
    "\n",
    "my_glass.empty()\n",
    "my_glass.fill()\n",
    "my_glass.fill()\n",
    "my_glass.empty()\n",
    "my_glass.break_glass()\n",
    "my_glass.fill()\n",
    "my_glass.empty()"
   ]
  },
  {
   "cell_type": "markdown",
   "metadata": {},
   "source": [
    "# Exercise 3"
   ]
  },
  {
   "cell_type": "code",
   "execution_count": 17,
   "metadata": {},
   "outputs": [
    {
     "name": "stdout",
     "output_type": "stream",
     "text": [
      "100.0\n",
      "0.0\n",
      "\n",
      "1.5\n",
      "98.5\n",
      "\n",
      "64.6\n",
      "35.4\n"
     ]
    },
    {
     "data": {
      "text/plain": [
       "{'_blue': 35.4, '_red': 64.6}"
      ]
     },
     "execution_count": 17,
     "metadata": {},
     "output_type": "execute_result"
    },
    {
     "ename": "",
     "evalue": "",
     "output_type": "error",
     "traceback": [
      "\u001b[1;31mThe Kernel crashed while executing code in the the current cell or a previous cell. Please review the code in the cell(s) to identify a possible cause of the failure. Click <a href='https://aka.ms/vscodeJupyterKernelCrash'>here</a> for more info. View Jupyter <a href='command:jupyter.viewOutput'>log</a> for further details."
     ]
    }
   ],
   "source": [
    "class Color:\n",
    "    def __init__(self):\n",
    "        self.red = 100.0\n",
    "        self.blue = 0.0\n",
    "\n",
    "    @property\n",
    "    def blue(self):\n",
    "        return self._blue\n",
    "\n",
    "    @property\n",
    "    def red(self):\n",
    "        return self._red\n",
    "\n",
    "    @blue.setter\n",
    "    def blue(self, blue):\n",
    "        self._red = 100 - blue\n",
    "        self._blue = blue\n",
    "\n",
    "    @red.setter\n",
    "    def red(self, red):\n",
    "        self._blue = 100 - red\n",
    "        self._red = red    \n",
    "\n",
    "\n",
    "my_color = Color()\n",
    "\n",
    "print(my_color.red)\n",
    "print(my_color.blue)\n",
    "\n",
    "print()\n",
    "\n",
    "my_color.red = 1.5\n",
    "print(my_color.red)\n",
    "print(my_color.blue)\n",
    "\n",
    "print()\n",
    "\n",
    "my_color.blue = 35.4\n",
    "print(my_color.red)\n",
    "print(my_color.blue)\n",
    "\n",
    "vars(my_color)"
   ]
  },
  {
   "cell_type": "markdown",
   "metadata": {},
   "source": [
    "# Exercise 4"
   ]
  },
  {
   "cell_type": "code",
   "execution_count": null,
   "metadata": {},
   "outputs": [],
   "source": [
    "import random\n",
    "class Car():\n",
    "    def __init__(self, color, length):\n",
    "        self.color = color\n",
    "        self.length = length\n",
    "\n",
    "for i in range(1000):\n",
    "    vars()\n",
    "\n"
   ]
  }
 ],
 "metadata": {
  "kernelspec": {
   "display_name": "Python 3",
   "language": "python",
   "name": "python3"
  },
  "language_info": {
   "codemirror_mode": {
    "name": "ipython",
    "version": 3
   },
   "file_extension": ".py",
   "mimetype": "text/x-python",
   "name": "python",
   "nbconvert_exporter": "python",
   "pygments_lexer": "ipython3",
   "version": "3.11.5"
  },
  "orig_nbformat": 4
 },
 "nbformat": 4,
 "nbformat_minor": 2
}
