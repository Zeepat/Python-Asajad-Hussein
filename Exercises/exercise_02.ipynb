{
 "cells": [
  {
   "attachments": {},
   "cell_type": "markdown",
   "metadata": {},
   "source": [
    "# Exercise 1"
   ]
  },
  {
   "cell_type": "code",
   "execution_count": 6,
   "metadata": {},
   "outputs": [
    {
     "name": "stdout",
     "output_type": "stream",
     "text": [
      "-10 -9 -8 -7 -6 -5 -4 -3 -2 -1 0 1 2 3 4 5 6 7 8 9 10 "
     ]
    }
   ],
   "source": [
    "i = -10                 # Initialises from the starting value to start counting from\n",
    "while i < 11:           # A for loop that stops when i hits 11\n",
    "    print(i, end=\" \")   # Prints the current number of i with a space at the end\n",
    "    i += 1              # Adds one to i to coninue on to the next number"
   ]
  },
  {
   "attachments": {},
   "cell_type": "markdown",
   "metadata": {},
   "source": [
    "# Exercise 2\n",
    "\n",
    "**a)**"
   ]
  },
  {
   "cell_type": "code",
   "execution_count": 12,
   "metadata": {},
   "outputs": [
    {
     "name": "stdout",
     "output_type": "stream",
     "text": [
      "5050\n"
     ]
    }
   ],
   "source": [
    "i = 0             # Initialises both i and sum as integers\n",
    "sum = 0\n",
    "while i < 101:    # A while loop that stops when i has hit 101\n",
    "    sum += i      # Adds the current i value to the sum\n",
    "    i += 1        # Adds one to the current i value in order to increment value\n",
    "print(sum)        # Prints the total sum"
   ]
  },
  {
   "attachments": {},
   "cell_type": "markdown",
   "metadata": {},
   "source": [
    "**b)**"
   ]
  },
  {
   "cell_type": "code",
   "execution_count": 13,
   "metadata": {},
   "outputs": [
    {
     "name": "stdout",
     "output_type": "stream",
     "text": [
      "2500\n"
     ]
    }
   ],
   "source": [
    "i = 1             # Initialises an i value and a sum value. The I value starts at 1 in order\n",
    "sum = 0           # to stop at 99, so that it only takes the odd values.\n",
    "while i < 100:    # A while loop that stops when i has hit 100\n",
    "    sum += i      # Adds the current i value to the sum\n",
    "    i += 2        # Adds two to the current i value in order to increment value by 2.\n",
    "print(sum)        # Prints the total sum"
   ]
  },
  {
   "attachments": {},
   "cell_type": "markdown",
   "metadata": {},
   "source": [
    "# Exercise 3\n",
    "\n",
    "**a)**"
   ]
  },
  {
   "cell_type": "code",
   "execution_count": 74,
   "metadata": {},
   "outputs": [
    {
     "name": "stdout",
     "output_type": "stream",
     "text": [
      "Wrong! Try again\n",
      "Much higher!\n",
      "Wrong! Try again\n",
      "Much higher!\n",
      "Wrong! Try again\n",
      "Higher!\n",
      "Wrong! Try again\n",
      "Higher!\n",
      "Wrong! Try again\n",
      "Lower\n",
      "Wrong! Try again\n",
      "Higher!\n",
      "Wrong! Try again\n",
      "Higher!\n",
      "Correct!\n"
     ]
    }
   ],
   "source": [
    "import random\n",
    "i = random.randint(1, 100)                       # Randomizes a number between 1 and 100 and sets it to i\n",
    "x = 0                                            # Initialises x\n",
    "while x != i:                                    # A while-loop that will stop when the user has guessed the randomized integer i\n",
    "    x = int(input(\"Enter your number \"))         # Takes an input from user and puts it into variable x\n",
    "    if x != i:                                   # If the guess is wrong, the user will get a hint depending on the difference between\n",
    "        print(\"Wrong! Try again\")                # the guess and the correct number.\n",
    "        if (i - x) >= 10:\n",
    "            print(\"Much higher!\")\n",
    "        elif (i - x) >= 0 and (i - x) < 10:\n",
    "            print(\"Higher!\")\n",
    "        elif (i - x) < 0 and (i - x) > -10:\n",
    "            print(\"Lower\")\n",
    "        else:\n",
    "            print(\"Much Lower\")\n",
    "print(\"Correct!\")                                # Will print this when correct number has been guessed and the while-loop has been broken.\n"
   ]
  },
  {
   "attachments": {},
   "cell_type": "markdown",
   "metadata": {},
   "source": [
    "**b)**"
   ]
  },
  {
   "cell_type": "code",
   "execution_count": 103,
   "metadata": {},
   "outputs": [],
   "source": [
    "# This algorithm will start by initialising its guess in the exact middle of the range. Then it will check if its guess is correct or not.\n",
    "# If it is not correct, it will get the hint and either increase/decrease by an increment of 20, or it will increase/decrease by an\n",
    "# increment of 1. There's also a counter for the amount of guesses which increases by one for each guess in the while-loop.\n",
    "\n",
    "import random\n",
    "i = random.randint(1, 100)\n",
    "x = 50\n",
    "guesses = 0\n",
    "while x != i:\n",
    "    guesses += 1\n",
    "    if x == i:\n",
    "        print(x)\n",
    "        break\n",
    "    else: \n",
    "        if (i - x) >= 10:\n",
    "            x += 20\n",
    "        elif (i - x) >= 0 and (i - x) < 10:\n",
    "            x += 1\n",
    "        elif (i - x) < 0 and (i - x) > -10:\n",
    "            x -= 1\n",
    "        else:\n",
    "            x -= 20\n",
    "        \n",
    "\n"
   ]
  },
  {
   "cell_type": "markdown",
   "metadata": {},
   "source": [
    "# Exercise 4\n",
    "\n",
    "**a)** and **b)**"
   ]
  },
  {
   "cell_type": "code",
   "execution_count": 105,
   "metadata": {},
   "outputs": [
    {
     "name": "stdout",
     "output_type": "stream",
     "text": [
      "Thank you for playing!\n"
     ]
    }
   ],
   "source": [
    "import random\n",
    "\n",
    "# The following user is set to \"y\" or \"n\" so that the while loop will know if it should continue or not, including later on\n",
    "# in the loop when asked if player wants to continue playing or not.\n",
    "\n",
    "playing = input(\"Do you want to play a multiplication game (y for yes, n for no)?\")\n",
    "\n",
    "while playing == \"y\":\n",
    "    \n",
    "    difficulty = input(\"Choose your difficulty: noob, casual, pro\")  # Three difficulties. Noob, casual and pro.\n",
    "\n",
    "    if difficulty == \"noob\":                                         # Noob difficulty is multiplication table of 10 by 10\n",
    "        number_1 = random.randint(1, 10)\n",
    "        number_2 = random.randint(1, 10)\n",
    "    elif difficulty == \"casual\":                                     # Casual difficulty is multiplication table of 100 by 100\n",
    "        number_1 = random.randint(1, 100)\n",
    "        number_2 = random.randint(1, 100)\n",
    "    else:                                                            # Pro difficulty is multiplication table of 1000 by 1000\n",
    "        number_1 = random.randint(1, 1000)\n",
    "        number_2 = random.randint(1, 1000)\n",
    "\n",
    "    i = number_1 * number_2\n",
    "\n",
    "# The two numbers have been randomized and given a variable name, then multiplied. Next step is for the user to input their guess.\n",
    "# If the guess is correct it will display \"Correct!\" Else it would display \"Incorrect!\" Then it will ask if you want to go again.\n",
    "# If the user input is \"y\", it will go again, hence not break the while-loop. If the input is \"n\" (or anything else for that matter), \n",
    "# it will break the loop and display a text message saying \"Thank you for playing!\"\n",
    "\n",
    "    z = int(input(f\"What is {number_1} * {number_2}\"))\n",
    "    if z == i:\n",
    "        print(\"Correct!\")\n",
    "        print(i)\n",
    "    else:\n",
    "        print(\"Incorrect!\")\n",
    "        print(i)\n",
    "    playing = input(\"Do you want to play again (y for yes, n for no)?\")\n",
    "\n",
    "    if playing != \"y\":\n",
    "        break\n",
    "    else:\n",
    "        print(\"OK go again\")\n",
    "\n",
    "\n",
    "\n",
    "\n",
    "print(\"Thank you for playing!\")"
   ]
  },
  {
   "cell_type": "markdown",
   "metadata": {},
   "source": [
    "# Exercise 5\n",
    "\n",
    "**a)**"
   ]
  },
  {
   "cell_type": "code",
   "execution_count": 120,
   "metadata": {},
   "outputs": [
    {
     "name": "stdout",
     "output_type": "stream",
     "text": [
      "2.0\n"
     ]
    }
   ],
   "source": [
    "n = 0                       # Initialise n and sum as integers\n",
    "sum = 0\n",
    "while n < 1000:             # While-loop will break when n hits 1000\n",
    "    sum += 1/(2**n)         # sum will increase with the following formula: 1/(2**n)\n",
    "    n += 1                  # n will increment by one\n",
    "print(sum)                  # print the total sum"
   ]
  },
  {
   "cell_type": "markdown",
   "metadata": {},
   "source": [
    "**b)**"
   ]
  },
  {
   "cell_type": "code",
   "execution_count": 127,
   "metadata": {},
   "outputs": [
    {
     "name": "stdout",
     "output_type": "stream",
     "text": [
      "0.7853981383974479\n"
     ]
    }
   ],
   "source": [
    "n = 0                               # Initialise n and sum as integers\n",
    "sum = 0\n",
    "\n",
    "while n < 100000:                   # While-loop will break when n hits 100000\n",
    "    sum += ((-1)**n)/(2*n + 1)      # sum will increase with the following formula: ((-1)**n)/(2*n + 1)\n",
    "    n += 1                          # n will increment by one\n",
    "print(sum)                          # print the total sum"
   ]
  }
 ],
 "metadata": {
  "kernelspec": {
   "display_name": "Python 3",
   "language": "python",
   "name": "python3"
  },
  "language_info": {
   "codemirror_mode": {
    "name": "ipython",
    "version": 3
   },
   "file_extension": ".py",
   "mimetype": "text/x-python",
   "name": "python",
   "nbconvert_exporter": "python",
   "pygments_lexer": "ipython3",
   "version": "3.10.11"
  },
  "orig_nbformat": 4,
  "vscode": {
   "interpreter": {
    "hash": "39b952706d9a56a0f6b1ae3a62b1b7641d49bf7de4c5a927b030017810e43a37"
   }
  }
 },
 "nbformat": 4,
 "nbformat_minor": 2
}
