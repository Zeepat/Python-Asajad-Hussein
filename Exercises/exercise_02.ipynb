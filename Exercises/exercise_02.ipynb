{
 "cells": [
  {
   "attachments": {},
   "cell_type": "markdown",
   "metadata": {},
   "source": [
    "# Exercise 1"
   ]
  },
  {
   "cell_type": "code",
   "execution_count": 6,
   "metadata": {},
   "outputs": [
    {
     "name": "stdout",
     "output_type": "stream",
     "text": [
      "-10 -9 -8 -7 -6 -5 -4 -3 -2 -1 0 1 2 3 4 5 6 7 8 9 10 "
     ]
    }
   ],
   "source": [
    "i = -10\n",
    "while i < 11:\n",
    "    print(i, end=\" \")\n",
    "    i += 1"
   ]
  },
  {
   "attachments": {},
   "cell_type": "markdown",
   "metadata": {},
   "source": [
    "# Exercise 2\n",
    "\n",
    "**a)**"
   ]
  },
  {
   "cell_type": "code",
   "execution_count": 12,
   "metadata": {},
   "outputs": [
    {
     "name": "stdout",
     "output_type": "stream",
     "text": [
      "5050\n"
     ]
    }
   ],
   "source": [
    "i = 0\n",
    "sum = 0\n",
    "while i < 101:\n",
    "    sum += i\n",
    "    i += 1\n",
    "print(sum)"
   ]
  },
  {
   "attachments": {},
   "cell_type": "markdown",
   "metadata": {},
   "source": [
    "**b)**"
   ]
  },
  {
   "cell_type": "code",
   "execution_count": 13,
   "metadata": {},
   "outputs": [
    {
     "name": "stdout",
     "output_type": "stream",
     "text": [
      "2500\n"
     ]
    }
   ],
   "source": [
    "i = 1\n",
    "sum = 0\n",
    "while i < 100:\n",
    "    sum += i\n",
    "    i += 2\n",
    "print(sum)"
   ]
  },
  {
   "attachments": {},
   "cell_type": "markdown",
   "metadata": {},
   "source": [
    "# Exercise 3\n",
    "\n",
    "**a)**"
   ]
  },
  {
   "cell_type": "code",
   "execution_count": 74,
   "metadata": {},
   "outputs": [
    {
     "name": "stdout",
     "output_type": "stream",
     "text": [
      "Wrong! Try again\n",
      "Much higher!\n",
      "Wrong! Try again\n",
      "Much higher!\n",
      "Wrong! Try again\n",
      "Higher!\n",
      "Wrong! Try again\n",
      "Higher!\n",
      "Wrong! Try again\n",
      "Lower\n",
      "Wrong! Try again\n",
      "Higher!\n",
      "Wrong! Try again\n",
      "Higher!\n",
      "Correct!\n"
     ]
    }
   ],
   "source": [
    "import random\n",
    "i = random.randint(1, 100)\n",
    "x = 0\n",
    "while x != i:\n",
    "    x = int(input(\"Enter your number \"))\n",
    "    if x != i:\n",
    "        print(\"Wrong! Try again\")\n",
    "        if (i - x) >= 10:\n",
    "            print(\"Much higher!\")\n",
    "        elif (i - x) >= 0 and (i - x) < 10:\n",
    "            print(\"Higher!\")\n",
    "        elif (i - x) < 0 and (i - x) > -10:\n",
    "            print(\"Lower\")\n",
    "        else:\n",
    "            print(\"Much Lower\")\n",
    "print(\"Correct!\")\n"
   ]
  },
  {
   "attachments": {},
   "cell_type": "markdown",
   "metadata": {},
   "source": [
    "**b)**"
   ]
  },
  {
   "cell_type": "code",
   "execution_count": 103,
   "metadata": {},
   "outputs": [],
   "source": [
    "import random\n",
    "i = random.randint(1, 100)\n",
    "x = 50\n",
    "guesses = 0\n",
    "while x != i:\n",
    "    guesses += 1\n",
    "    if x == i:\n",
    "        print(x)\n",
    "        break\n",
    "    else: \n",
    "        if (i - x) >= 10:\n",
    "            x += 20\n",
    "        elif (i - x) >= 0 and (i - x) < 10:\n",
    "            x += 1\n",
    "        elif (i - x) < 0 and (i - x) > -10:\n",
    "            x -= 1\n",
    "        else:\n",
    "            x -= 20\n",
    "        \n",
    "\n"
   ]
  },
  {
   "cell_type": "markdown",
   "metadata": {},
   "source": [
    "# Exercise 4\n",
    "\n",
    "**a)** and **b)**"
   ]
  },
  {
   "cell_type": "code",
   "execution_count": 105,
   "metadata": {},
   "outputs": [
    {
     "name": "stdout",
     "output_type": "stream",
     "text": [
      "Thank you for playing!\n"
     ]
    }
   ],
   "source": [
    "import random\n",
    "\n",
    "playing = input(\"Do you want to play a multiplication game (y for yes, n for no)?\")\n",
    "\n",
    "while playing == \"y\":\n",
    "    \n",
    "    difficulty = input(\"Choose your difficulty: noob, casual, pro\")\n",
    "\n",
    "    if difficulty == \"noob\":\n",
    "        number_1 = random.randint(1, 10)\n",
    "        number_2 = random.randint(1, 10)\n",
    "    elif difficulty == \"casual\":\n",
    "        number_1 = random.randint(1, 100)\n",
    "        number_2 = random.randint(1, 100)\n",
    "    else:\n",
    "        number_1 = random.randint(1, 1000)\n",
    "        number_2 = random.randint(1, 1000)\n",
    "\n",
    "    i = number_1 * number_2\n",
    "\n",
    "    z = int(input(f\"What is {number_1} * {number_2}\"))\n",
    "    if z == i:\n",
    "        print(\"Correct!\")\n",
    "        print(i)\n",
    "    else:\n",
    "        print(\"Incorrect! Try again\")\n",
    "    playing = input(\"Do you want to play again (y for yes, n for no)?\")\n",
    "\n",
    "    if playing != \"y\":\n",
    "        break\n",
    "    else:\n",
    "        print(\"OK go again\")\n",
    "\n",
    "\n",
    "\n",
    "\n",
    "print(\"Thank you for playing!\")"
   ]
  },
  {
   "cell_type": "markdown",
   "metadata": {},
   "source": [
    "# Exercise 5\n",
    "\n",
    "**a)**"
   ]
  },
  {
   "cell_type": "code",
   "execution_count": 120,
   "metadata": {},
   "outputs": [
    {
     "name": "stdout",
     "output_type": "stream",
     "text": [
      "2.0\n"
     ]
    }
   ],
   "source": [
    "n = 0\n",
    "sum = 0\n",
    "while n < 1000:\n",
    "    sum += 1/(2**n)\n",
    "    n += 1\n",
    "print(sum)"
   ]
  },
  {
   "cell_type": "markdown",
   "metadata": {},
   "source": [
    "**b)**"
   ]
  },
  {
   "cell_type": "code",
   "execution_count": 127,
   "metadata": {},
   "outputs": [
    {
     "name": "stdout",
     "output_type": "stream",
     "text": [
      "0.7853981383974479\n"
     ]
    }
   ],
   "source": [
    "n = 0\n",
    "sum = 0\n",
    "\n",
    "while n < 100000:\n",
    "    sum += ((-1)**n)/(2*n + 1)\n",
    "    n += 1\n",
    "print(sum)"
   ]
  }
 ],
 "metadata": {
  "kernelspec": {
   "display_name": "Python 3",
   "language": "python",
   "name": "python3"
  },
  "language_info": {
   "codemirror_mode": {
    "name": "ipython",
    "version": 3
   },
   "file_extension": ".py",
   "mimetype": "text/x-python",
   "name": "python",
   "nbconvert_exporter": "python",
   "pygments_lexer": "ipython3",
   "version": "3.10.11"
  },
  "orig_nbformat": 4,
  "vscode": {
   "interpreter": {
    "hash": "39b952706d9a56a0f6b1ae3a62b1b7641d49bf7de4c5a927b030017810e43a37"
   }
  }
 },
 "nbformat": 4,
 "nbformat_minor": 2
}
