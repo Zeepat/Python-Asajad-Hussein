{
 "cells": [
  {
   "cell_type": "markdown",
   "metadata": {},
   "source": [
    "# Exercise 1\n",
    "**a)**"
   ]
  },
  {
   "cell_type": "code",
   "execution_count": 32,
   "metadata": {},
   "outputs": [],
   "source": [
    "import random\n",
    "dice_rolls_range = list(range(20))\n",
    "dice_rolls_list = []\n",
    "for i in dice_rolls_range:\n",
    "    dice_rolls_list.append(random.randint(1,6))\n",
    "with open(\"../Data/dice_rolls.txt\", \"w\") as file:\n",
    "    file.write(\"[\")\n",
    "    counter = len(dice_rolls_list)\n",
    "    for dice_roll in dice_rolls_list:\n",
    "        if counter > 1:\n",
    "            file.write(str(dice_roll)+\" \")\n",
    "            counter -= 1\n",
    "        else:\n",
    "            file.write(str(dice_roll))\n",
    "    file.write(\"]\")"
   ]
  },
  {
   "cell_type": "markdown",
   "metadata": {},
   "source": [
    "**b)**"
   ]
  },
  {
   "cell_type": "code",
   "execution_count": 33,
   "metadata": {},
   "outputs": [],
   "source": [
    "with open(\"../Data/dice_rolls.txt\", \"a\") as file:\n",
    "    dice_rolls_list.sort()\n",
    "    file.write(\"\\n\")\n",
    "    file.write(\"[\")\n",
    "    counter = len(dice_rolls_list)\n",
    "    for i in dice_rolls_list:\n",
    "        if counter > 1:\n",
    "            file.write(str(i)+\" \")\n",
    "            counter -= 1\n",
    "        else:\n",
    "            file.write(str(i))\n",
    "    file.write(\"]\")"
   ]
  },
  {
   "cell_type": "markdown",
   "metadata": {},
   "source": [
    "**c)**"
   ]
  },
  {
   "cell_type": "code",
   "execution_count": 34,
   "metadata": {},
   "outputs": [
    {
     "name": "stdout",
     "output_type": "stream",
     "text": [
      "2\n"
     ]
    }
   ],
   "source": [
    "with open(\"../Data/dice_rolls.txt\", \"r\") as file:\n",
    "    content = file.readline()\n",
    "    counter = 0\n",
    "    for i in content:\n",
    "        if i == \"4\":\n",
    "            counter += 1\n",
    "    print(counter)"
   ]
  },
  {
   "cell_type": "markdown",
   "metadata": {},
   "source": [
    "# Exercise 2\n",
    "**a)**"
   ]
  },
  {
   "cell_type": "code",
   "execution_count": 32,
   "metadata": {},
   "outputs": [
    {
     "name": "stdout",
     "output_type": "stream",
     "text": [
      "Adam Gustafsson 25\n",
      "Emil Johansson 23\n",
      "Sven Erik Karlsson 13\n",
      "Ove Karlsten 41\n",
      "Emma Boden 32\n",
      "Ida Håkansson 23\n",
      "Ella Ester 41\n",
      "Hanna Karlsson 23 \n",
      "Johan Johansson 42\n",
      "Sven Erik Lundin 39\n",
      "Björn Björnsson 39\n",
      "Karl Karlsson 32\n",
      "Bose Bosseson 32\n",
      "Håkan Håkanson 24\n",
      "Jonas Jonasson 31\n",
      "Erik Eriksson 31\n",
      "Gore Bord 55\n",
      "Jakob Kallander 65\n",
      "Fredrika Ulven 10\n",
      "\n"
     ]
    }
   ],
   "source": [
    "with open(\"../Data/test_result.txt\", \"r\") as file:\n",
    "    print(file.read())"
   ]
  },
  {
   "cell_type": "markdown",
   "metadata": {},
   "source": [
    "**b)**"
   ]
  },
  {
   "cell_type": "code",
   "execution_count": 34,
   "metadata": {},
   "outputs": [],
   "source": [
    "with open(\"../Data/test_result.txt\", \"r\") as file:\n",
    "    content = file.readlines()\n",
    "    content.sort()\n",
    "    with open(\"../Data/test_result.txt\", \"a\") as file:\n",
    "        file.write(\"\\n\")\n",
    "        file.write(\"Sorted alphabetically\\n\")\n",
    "        for i in content:\n",
    "            file.write(i)"
   ]
  },
  {
   "cell_type": "markdown",
   "metadata": {},
   "source": [
    "**c)**"
   ]
  },
  {
   "cell_type": "code",
   "execution_count": 78,
   "metadata": {},
   "outputs": [
    {
     "name": "stdout",
     "output_type": "stream",
     "text": [
      "{'': 5}\n"
     ]
    }
   ],
   "source": [
    "numbers = \"0123456789\"\n",
    "with open(\"../Data/test_result.txt\", \"r\") as file:\n",
    "    people_grade_dict_a = {}\n",
    "    people_grade_dict_b = {}\n",
    "    people_grade_dict_c = {}\n",
    "    people_grade_dict_d = {}\n",
    "    people_grade_dict_e = {}\n",
    "    people_grade_dict_f = {}\n",
    "    for i in file.readlines():\n",
    "        name = \"\"\n",
    "        number = \"\"\n",
    "        previous = \"\"\n",
    "        for j in i:\n",
    "            if j == \"\\n\":\n",
    "                previous = \"\\\\\"\n",
    "            elif j not in numbers:\n",
    "                name += j\n",
    "            else:\n",
    "                number += j\n",
    "                number_int = int(number)\n",
    "                if number_int < 20:\n",
    "                    grade = \"F\"\n",
    "                elif number_int < 30:\n",
    "                    grade = \"E\"\n",
    "                elif number_int < 40:\n",
    "                    grade = \"D\"\n",
    "                elif number_int < 50:\n",
    "                    grade = \"C\"\n",
    "                elif number_int < 60:\n",
    "                    grade = \"B\"\n",
    "                else:\n",
    "                    grade = \"A\"\n",
    "        if name == \"Sorted alphabetically\":\n",
    "            None\n",
    "        elif grade == \"A\":\n",
    "            people_grade_dict_a[name] = number_int\n",
    "        elif grade == \"B\":\n",
    "            people_grade_dict_b[name] = number_int\n",
    "        elif grade == \"C\":\n",
    "            people_grade_dict_c[name] = number_int\n",
    "        elif grade == \"D\":\n",
    "            people_grade_dict_d[name] = number_int\n",
    "        elif grade == \"E\":\n",
    "            people_grade_dict_e[name] = number_int\n",
    "        else:\n",
    "            people_grade_dict_f[name] = number_int\n",
    "    new_dict_a = {k: v for k, v in sorted(people_grade_dict_a.items(), key=lambda item: item[1])}\n",
    "    new_dict_b = {k: v for k, v in sorted(people_grade_dict_b.items(), key=lambda item: item[1])}\n",
    "    new_dict_c = {k: v for k, v in sorted(people_grade_dict_c.items(), key=lambda item: item[1])}\n",
    "    new_dict_d = {k: v for k, v in sorted(people_grade_dict_d.items(), key=lambda item: item[1])}\n",
    "    new_dict_e = {k: v for k, v in sorted(people_grade_dict_e.items(), key=lambda item: item[1])}\n",
    "    new_dict_f = {k: v for k, v in sorted(people_grade_dict_f.items(), key=lambda item: item[1])}\n",
    "    print(new_dict_f)\n",
    "    # for i in people_grade_dict_f:\n",
    "    #     print(i + people_grade_dict_f[i])\n",
    "    # for i in people_grade_dict_e:\n",
    "    #     print(i + people_grade_dict_e[i])\n",
    "    # for i in people_grade_dict_d:\n",
    "    #     print(i + people_grade_dict_d[i])\n",
    "    # for i in people_grade_dict_c:\n",
    "    #     print(i + people_grade_dict_c[i])\n",
    "    # for i in people_grade_dict_b:\n",
    "    #     print(i + people_grade_dict_b[i])\n",
    "    # for i in people_grade_dict_a:\n",
    "    #     print(i + people_grade_dict_a[i])"
   ]
  }
 ],
 "metadata": {
  "kernelspec": {
   "display_name": "Python-Programming-Asajad-Hussein-wqUMovOj",
   "language": "python",
   "name": "python3"
  },
  "language_info": {
   "codemirror_mode": {
    "name": "ipython",
    "version": 3
   },
   "file_extension": ".py",
   "mimetype": "text/x-python",
   "name": "python",
   "nbconvert_exporter": "python",
   "pygments_lexer": "ipython3",
   "version": "3.11.5"
  },
  "orig_nbformat": 4
 },
 "nbformat": 4,
 "nbformat_minor": 2
}
