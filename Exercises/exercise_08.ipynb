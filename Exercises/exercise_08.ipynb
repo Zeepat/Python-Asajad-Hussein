{
 "cells": [
  {
   "cell_type": "markdown",
   "metadata": {},
   "source": [
    "# Exercise 1\n",
    "**a)**"
   ]
  },
  {
   "cell_type": "code",
   "execution_count": 32,
   "metadata": {},
   "outputs": [],
   "source": [
    "import random\n",
    "dice_rolls_range = list(range(20))\n",
    "dice_rolls_list = []\n",
    "for i in dice_rolls_range:\n",
    "    dice_rolls_list.append(random.randint(1,6))\n",
    "with open(\"../Data/dice_rolls.txt\", \"w\") as file:\n",
    "    file.write(\"[\")\n",
    "    counter = len(dice_rolls_list)\n",
    "    for dice_roll in dice_rolls_list:\n",
    "        if counter > 1:\n",
    "            file.write(str(dice_roll)+\" \")\n",
    "            counter -= 1\n",
    "        else:\n",
    "            file.write(str(dice_roll))\n",
    "    file.write(\"]\")"
   ]
  },
  {
   "cell_type": "markdown",
   "metadata": {},
   "source": [
    "**b)**"
   ]
  },
  {
   "cell_type": "code",
   "execution_count": 33,
   "metadata": {},
   "outputs": [],
   "source": [
    "with open(\"../Data/dice_rolls.txt\", \"a\") as file:\n",
    "    dice_rolls_list.sort()\n",
    "    file.write(\"\\n\")\n",
    "    file.write(\"[\")\n",
    "    counter = len(dice_rolls_list)\n",
    "    for i in dice_rolls_list:\n",
    "        if counter > 1:\n",
    "            file.write(str(i)+\" \")\n",
    "            counter -= 1\n",
    "        else:\n",
    "            file.write(str(i))\n",
    "    file.write(\"]\")"
   ]
  },
  {
   "cell_type": "markdown",
   "metadata": {},
   "source": [
    "**c)**"
   ]
  },
  {
   "cell_type": "code",
   "execution_count": 34,
   "metadata": {},
   "outputs": [
    {
     "name": "stdout",
     "output_type": "stream",
     "text": [
      "2\n"
     ]
    }
   ],
   "source": [
    "with open(\"../Data/dice_rolls.txt\", \"r\") as file:\n",
    "    content = file.readline()\n",
    "    counter = 0\n",
    "    for i in content:\n",
    "        if i == \"4\":\n",
    "            counter += 1\n",
    "    print(counter)"
   ]
  },
  {
   "cell_type": "markdown",
   "metadata": {},
   "source": [
    "# Exercise 2"
   ]
  },
  {
   "cell_type": "code",
   "execution_count": null,
   "metadata": {},
   "outputs": [],
   "source": []
  }
 ],
 "metadata": {
  "kernelspec": {
   "display_name": "Python-Programming-Asajad-Hussein-wqUMovOj",
   "language": "python",
   "name": "python3"
  },
  "language_info": {
   "codemirror_mode": {
    "name": "ipython",
    "version": 3
   },
   "file_extension": ".py",
   "mimetype": "text/x-python",
   "name": "python",
   "nbconvert_exporter": "python",
   "pygments_lexer": "ipython3",
   "version": "3.11.5"
  },
  "orig_nbformat": 4
 },
 "nbformat": 4,
 "nbformat_minor": 2
}
