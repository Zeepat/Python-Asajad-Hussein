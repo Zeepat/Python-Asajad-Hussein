{
 "cells": [
  {
   "cell_type": "markdown",
   "metadata": {},
   "source": [
    "# Exercise 1\n",
    "**a)**"
   ]
  },
  {
   "cell_type": "code",
   "execution_count": 6,
   "metadata": {},
   "outputs": [
    {
     "name": "stdout",
     "output_type": "stream",
     "text": [
      "-10 -9 -8 -7 -6 -5 -4 -3 -2 -1 0 1 2 3 4 5 6 7 8 9 10 "
     ]
    }
   ],
   "source": [
    "# For loop that starts with -10 and ends with 10 that prints each \n",
    "# current i with and end of \", \" to each element\n",
    "\n",
    "for i in range(-10,11):\n",
    "    print(i, end=\" \")"
   ]
  },
  {
   "cell_type": "markdown",
   "metadata": {},
   "source": [
    "**b)**"
   ]
  },
  {
   "cell_type": "code",
   "execution_count": 9,
   "metadata": {},
   "outputs": [
    {
     "name": "stdout",
     "output_type": "stream",
     "text": [
      "-10 -8 -6 -4 -2 0 2 4 6 8 10 "
     ]
    }
   ],
   "source": [
    "# Same as previous question just that the for loop has an increment of two\n",
    "for i in range(-10, 11, 2):\n",
    "    print(i, end=\" \")"
   ]
  },
  {
   "cell_type": "markdown",
   "metadata": {},
   "source": [
    "# Exercise 2\n",
    "**a)**"
   ]
  },
  {
   "cell_type": "code",
   "execution_count": 12,
   "metadata": {},
   "outputs": [
    {
     "name": "stdout",
     "output_type": "stream",
     "text": [
      "5050\n"
     ]
    }
   ],
   "source": [
    "# Initialises a sum with an integer. Then creates a for-loop of a range of 100 numbers and increses\n",
    "# the sum by the current i of the range. After the for-loop it prints the sum.\n",
    "sum = 0\n",
    "\n",
    "for i in range(1, 101):\n",
    "    sum += i\n",
    "print(sum)"
   ]
  },
  {
   "cell_type": "markdown",
   "metadata": {},
   "source": [
    "**b)**"
   ]
  },
  {
   "cell_type": "code",
   "execution_count": 14,
   "metadata": {},
   "outputs": [
    {
     "name": "stdout",
     "output_type": "stream",
     "text": [
      "2500\n"
     ]
    }
   ],
   "source": [
    "# Same as previous but increments the number by 2 and ends the range at 99 instead of 100.\n",
    "sum = 0\n",
    "\n",
    "for i in range(1, 100, 2):\n",
    "    sum += i\n",
    "print(sum)"
   ]
  },
  {
   "cell_type": "markdown",
   "metadata": {},
   "source": [
    "# Exercise 3\n",
    "**a)**"
   ]
  },
  {
   "cell_type": "code",
   "execution_count": 16,
   "metadata": {},
   "outputs": [
    {
     "name": "stdout",
     "output_type": "stream",
     "text": [
      "0 6 12 18 24 30 36 42 48 54 60 "
     ]
    }
   ],
   "source": [
    "# Prints the multiplication table of 6 up to 6*10 by for-looping a range from 0 to 10 and multiplying the \n",
    "# number in the range by 6.\n",
    "for i in range(0, 11):\n",
    "    print(i*6, end=\" \")"
   ]
  },
  {
   "cell_type": "markdown",
   "metadata": {},
   "source": [
    "**b)**"
   ]
  },
  {
   "cell_type": "code",
   "execution_count": 22,
   "metadata": {},
   "outputs": [
    {
     "name": "stdout",
     "output_type": "stream",
     "text": [
      "25 30 35 40 45 50 55 60 "
     ]
    }
   ],
   "source": [
    "# Same as previous but instead of having only the multiplaction table of 6, it will be any that the user inputs.\n",
    "# The start and end will also be inputs from the user. All the inputs will be set as integers in order to avoid errors.\n",
    "\n",
    "table_ask = int(input(\"Which table are you interested in?\"))\n",
    "starts = int(input(\"Specify start of table: \"))\n",
    "end = int(input(\"Specify end of table: \"))\n",
    "\n",
    "for i in range(starts, end+1):\n",
    "    print(i*table_ask, end=\" \")"
   ]
  },
  {
   "cell_type": "markdown",
   "metadata": {},
   "source": [
    "**c)**"
   ]
  },
  {
   "cell_type": "code",
   "execution_count": 27,
   "metadata": {},
   "outputs": [
    {
     "name": "stdout",
     "output_type": "stream",
     "text": [
      "   0    0    0    0    0    0    0    0    0    0    0\n",
      "   0    1    2    3    4    5    6    7    8    9   10\n",
      "   0    2    4    6    8   10   12   14   16   18   20\n",
      "   0    3    6    9   12   15   18   21   24   27   30\n",
      "   0    4    8   12   16   20   24   28   32   36   40\n",
      "   0    5   10   15   20   25   30   35   40   45   50\n",
      "   0    6   12   18   24   30   36   42   48   54   60\n",
      "   0    7   14   21   28   35   42   49   56   63   70\n",
      "   0    8   16   24   32   40   48   56   64   72   80\n",
      "   0    9   18   27   36   45   54   63   72   81   90\n",
      "   0   10   20   30   40   50   60   70   80   90  100\n"
     ]
    }
   ],
   "source": [
    "# A for-loop inside a for-loop in order to the multiplication of 0 to 10 by 0 to 10. It will loop through each number from 0 to 10 and\n",
    "# multiply it by every number from 0 to 10. The f-string will format a new row if it reaches the multiple of 10, otherwise it will only\n",
    "# add a space at the end of it.\n",
    "\n",
    "for i in range(0, 11):\n",
    "    for j in range(0, 11):\n",
    "        number = i*j\n",
    "        if j != 10:\n",
    "            print(f\"{number: 4}\", end=\" \")\n",
    "        else: \n",
    "            print(f\"{number: 4}\", end=\"\\n\")"
   ]
  },
  {
   "cell_type": "markdown",
   "metadata": {},
   "source": [
    "# Exercise 4"
   ]
  },
  {
   "cell_type": "code",
   "execution_count": 31,
   "metadata": {},
   "outputs": [
    {
     "name": "stdout",
     "output_type": "stream",
     "text": [
      "Your input was 5\n",
      "5! is = 120\n"
     ]
    }
   ],
   "source": [
    "# Doing factorial is similar to what we did in 2a), however instead of adding the current integer i to the sum, you multiply it to the sum.\n",
    "\n",
    "n = int(input(\"Enter an integer for n: \"))\n",
    "sum = 1\n",
    "for i in range(1, n+1):\n",
    "    sum *= i\n",
    "print(f\"Your input was {n}\")\n",
    "print(f\"{n}! is = {sum}\")"
   ]
  },
  {
   "cell_type": "markdown",
   "metadata": {},
   "source": [
    "# Exercise 5"
   ]
  },
  {
   "cell_type": "code",
   "execution_count": 41,
   "metadata": {},
   "outputs": [
    {
     "name": "stdout",
     "output_type": "stream",
     "text": [
      "The final guess is 8704\n",
      "The computer number is 8704\n"
     ]
    }
   ],
   "source": [
    "# Randomizes an integer between 1000 and 9999 in order to keep it a 4-digit number.\n",
    "# The guess will for-loop through all numbers between that range and print that the guess is correct and break the statement. \n",
    "import random\n",
    "x = random.randint(1000, 9999)\n",
    "\n",
    "for i in range(1000, 10000):\n",
    "    if i == x:\n",
    "        print(f\"The final guess is {i}\\nThe computer number is {x}\")\n",
    "        break"
   ]
  },
  {
   "cell_type": "markdown",
   "metadata": {},
   "source": [
    "# Exercise 6"
   ]
  },
  {
   "cell_type": "code",
   "execution_count": 27,
   "metadata": {},
   "outputs": [
    {
     "name": "stdout",
     "output_type": "stream",
     "text": [
      "18446744073709551615 number of grains\n"
     ]
    }
   ],
   "source": [
    "# Start by initialising the current_grain and sum. In a nested for-loop of 8x8, such as the chessboard grid, the for loop will add on\n",
    "# the current_grain to the sum and then double the current_grain in order to continue on to the next slot. \n",
    "current_grain = 1\n",
    "sum = 0\n",
    "\n",
    "for i in range(1, 9):\n",
    "    for j in range(1, 9):\n",
    "\n",
    "        sum += current_grain\n",
    "        current_grain *= 2\n",
    "\n",
    "\n",
    "print(f\"{sum} number of grains\")"
   ]
  }
 ],
 "metadata": {
  "kernelspec": {
   "display_name": "Python 3",
   "language": "python",
   "name": "python3"
  },
  "language_info": {
   "codemirror_mode": {
    "name": "ipython",
    "version": 3
   },
   "file_extension": ".py",
   "mimetype": "text/x-python",
   "name": "python",
   "nbconvert_exporter": "python",
   "pygments_lexer": "ipython3",
   "version": "3.10.11"
  },
  "orig_nbformat": 4,
  "vscode": {
   "interpreter": {
    "hash": "39b952706d9a56a0f6b1ae3a62b1b7641d49bf7de4c5a927b030017810e43a37"
   }
  }
 },
 "nbformat": 4,
 "nbformat_minor": 2
}
