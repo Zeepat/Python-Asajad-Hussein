{
 "cells": [
  {
   "attachments": {},
   "cell_type": "markdown",
   "metadata": {},
   "source": [
    "# Exercise 1\n",
    "**a)**"
   ]
  },
  {
   "cell_type": "code",
   "execution_count": 7,
   "metadata": {},
   "outputs": [
    {
     "name": "stdout",
     "output_type": "stream",
     "text": [
      "Your word was: \"word\", and the number of letters in that word is: 4\n"
     ]
    }
   ],
   "source": [
    "user_word_input = input(\"Enter a word: \")\n",
    "print(f'Your word was: \"{user_word_input}\", and the number of letters in that word is: {len(user_word_input)}')"
   ]
  },
  {
   "attachments": {},
   "cell_type": "markdown",
   "metadata": {},
   "source": [
    "**b)**"
   ]
  },
  {
   "cell_type": "code",
   "execution_count": 18,
   "metadata": {},
   "outputs": [
    {
     "name": "stdout",
     "output_type": "stream",
     "text": [
      "Your word was: \"Word\"\n",
      "The amount of uppercase letters is: 1. The amount of lowercase letters is: 3.\n"
     ]
    }
   ],
   "source": [
    "counter_upper = 0\n",
    "counter_lower = 0\n",
    "user_word_input = input(\"Enter a word: \")\n",
    "for char in user_word_input:\n",
    "    if char.isupper():\n",
    "        counter_upper += 1\n",
    "    elif char.islower():\n",
    "        counter_lower += 1\n",
    "print(f'Your word was: \"{user_word_input}\"')\n",
    "print(f'The amount of uppercase letters is: {counter_upper}. The amount of lowercase letters is: {counter_lower}.')"
   ]
  },
  {
   "attachments": {},
   "cell_type": "markdown",
   "metadata": {},
   "source": [
    "# Exercise 2"
   ]
  },
  {
   "cell_type": "code",
   "execution_count": 29,
   "metadata": {},
   "outputs": [
    {
     "name": "stdout",
     "output_type": "stream",
     "text": [
      "Firstname: Asajad\n",
      "Lastname: Hussein Abdul-Kadhom\n"
     ]
    }
   ],
   "source": [
    "user_name_input = input(\"Enter your firstname and lastname: \")\n",
    "user_name_strip = user_name_input.strip()\n",
    "\n",
    "first_space = user_name_strip.find(\" \")\n",
    "firstname = user_name_strip[:first_space]\n",
    "lastname = user_name_strip[first_space+1:]\n",
    "print(f'Firstname: {firstname}')\n",
    "print(f'Lastname: {lastname}')"
   ]
  },
  {
   "attachments": {},
   "cell_type": "markdown",
   "metadata": {},
   "source": [
    "# Exercise 3"
   ]
  },
  {
   "cell_type": "code",
   "execution_count": 34,
   "metadata": {},
   "outputs": [
    {
     "name": "stdout",
     "output_type": "stream",
     "text": [
      "Your sentence was: Hello! My name is Asajad.\n",
      "There are 5 words in that sentence.\n"
     ]
    }
   ],
   "source": [
    "user_sentence_input = input(\"Enter your sentence: \")\n",
    "\n",
    "user_sentence_list = user_sentence_input.split()\n",
    "number_of_words = len(user_sentence_list)\n",
    "print(f\"Your sentence was: {user_sentence_input}\")\n",
    "print(f\"There are {number_of_words} words in that sentence.\")\n"
   ]
  },
  {
   "attachments": {},
   "cell_type": "markdown",
   "metadata": {},
   "source": [
    "# Exercise 4\n",
    "**a)**"
   ]
  },
  {
   "cell_type": "code",
   "execution_count": 9,
   "metadata": {},
   "outputs": [
    {
     "name": "stdout",
     "output_type": "stream",
     "text": [
      "Original: This is input from the user\n",
      "Output: user the from input is This\n"
     ]
    }
   ],
   "source": [
    "user_sentence_input = input(\"Enter your sentence: \")\n",
    "user_sentence_list = user_sentence_input.split()\n",
    "user_sentence_list.reverse()\n",
    "seperator = \" \"\n",
    "new_sentence = seperator.join(user_sentence_list)\n",
    "print(f'Original: {user_sentence_input}')\n",
    "print(f'Output: {new_sentence}')"
   ]
  },
  {
   "attachments": {},
   "cell_type": "markdown",
   "metadata": {},
   "source": [
    "**b)**"
   ]
  },
  {
   "cell_type": "code",
   "execution_count": 11,
   "metadata": {},
   "outputs": [
    {
     "name": "stdout",
     "output_type": "stream",
     "text": [
      "Original: This is input from the user\n",
      "Output: User the from input is this\n"
     ]
    }
   ],
   "source": [
    "user_sentence_input = input(\"Enter your sentence: \")\n",
    "user_sentence_lower = user_sentence_input.lower()\n",
    "user_sentence_list = user_sentence_lower.split()\n",
    "user_sentence_list.reverse()\n",
    "seperator = \" \"\n",
    "new_sentence = seperator.join(user_sentence_list)\n",
    "new_sentence_capitalize = new_sentence.capitalize()\n",
    "print(f'Original: {user_sentence_input}')\n",
    "print(f'Output: {new_sentence_capitalize}')"
   ]
  },
  {
   "attachments": {},
   "cell_type": "markdown",
   "metadata": {},
   "source": [
    "# Exercise 5"
   ]
  },
  {
   "cell_type": "code",
   "execution_count": 19,
   "metadata": {},
   "outputs": [
    {
     "name": "stdout",
     "output_type": "stream",
     "text": [
      "Your phrase \"Anna\" is a palindrome!\n"
     ]
    }
   ],
   "source": [
    "user_phrase_input = input(\"Enter your phrase: \")\n",
    "user_phrase_lower = user_phrase_input.lower()\n",
    "user_phrase_list = user_phrase_lower.split()\n",
    "seperator = \"\"\n",
    "user_phrase_original = seperator.join(user_phrase_list)\n",
    "new_phrase = seperator.join(user_phrase_list)\n",
    "new_phrase_list = [char for char in new_phrase]\n",
    "new_phrase_list.reverse()\n",
    "final_reverse_phrase = seperator.join(new_phrase_list)\n",
    "\n",
    "\n",
    "if user_phrase_original == final_reverse_phrase:\n",
    "    print(f'Your phrase \"{user_phrase_input}\" is a palindrome!')\n",
    "else:\n",
    "    print(f'Your phrase \"{user_phrase_input}\" is not a palindrome')"
   ]
  },
  {
   "cell_type": "markdown",
   "metadata": {},
   "source": [
    "# Exercise 6"
   ]
  },
  {
   "cell_type": "code",
   "execution_count": 4,
   "metadata": {},
   "outputs": [
    {
     "name": "stdout",
     "output_type": "stream",
     "text": [
      "Your sentence was: Pure mathematics is, in its way, the poetry of logical ideas\n",
      "There are 20 vowels in this sentence.\n"
     ]
    }
   ],
   "source": [
    "user_string_input = input(\"Enter your sentence or phrase: \")\n",
    "vowels = \"aeiouAEIOU\"\n",
    "\n",
    "list_of_vowels = [vowel for vowel in user_string_input if vowel in vowels]\n",
    "count = len(list_of_vowels)\n",
    "\n",
    "print(f'Your sentence was: {user_string_input}')\n",
    "print(f'There are {count} vowels in this sentence.')"
   ]
  },
  {
   "cell_type": "markdown",
   "metadata": {},
   "source": [
    "# Exercise 7"
   ]
  },
  {
   "cell_type": "code",
   "execution_count": 5,
   "metadata": {},
   "outputs": [
    {
     "ename": "IndexError",
     "evalue": "pop from empty list",
     "output_type": "error",
     "traceback": [
      "\u001b[1;31m---------------------------------------------------------------------------\u001b[0m",
      "\u001b[1;31mIndexError\u001b[0m                                Traceback (most recent call last)",
      "\u001b[1;32mc:\\Users\\first\\Desktop\\GithubForSchool\\Python-Asajad-Hussein\\Exercises\\exercise_05.ipynb Cell 18\u001b[0m line \u001b[0;36m2\n\u001b[0;32m     <a href='vscode-notebook-cell:/c%3A/Users/first/Desktop/GithubForSchool/Python-Asajad-Hussein/Exercises/exercise_05.ipynb#X24sZmlsZQ%3D%3D?line=19'>20</a>\u001b[0m counter \u001b[39m=\u001b[39m i \n\u001b[0;32m     <a href='vscode-notebook-cell:/c%3A/Users/first/Desktop/GithubForSchool/Python-Asajad-Hussein/Exercises/exercise_05.ipynb#X24sZmlsZQ%3D%3D?line=20'>21</a>\u001b[0m \u001b[39mwhile\u001b[39;00m i \u001b[39m>\u001b[39m \u001b[39m0\u001b[39m:\n\u001b[1;32m---> <a href='vscode-notebook-cell:/c%3A/Users/first/Desktop/GithubForSchool/Python-Asajad-Hussein/Exercises/exercise_05.ipynb#X24sZmlsZQ%3D%3D?line=21'>22</a>\u001b[0m     new_sentence \u001b[39m+\u001b[39m\u001b[39m=\u001b[39m list_sentence\u001b[39m.\u001b[39;49mpop(\u001b[39m0\u001b[39;49m)\n\u001b[0;32m     <a href='vscode-notebook-cell:/c%3A/Users/first/Desktop/GithubForSchool/Python-Asajad-Hussein/Exercises/exercise_05.ipynb#X24sZmlsZQ%3D%3D?line=22'>23</a>\u001b[0m     counter \u001b[39m-\u001b[39m\u001b[39m=\u001b[39m \u001b[39m1\u001b[39m\n\u001b[0;32m     <a href='vscode-notebook-cell:/c%3A/Users/first/Desktop/GithubForSchool/Python-Asajad-Hussein/Exercises/exercise_05.ipynb#X24sZmlsZQ%3D%3D?line=23'>24</a>\u001b[0m new_sentence \u001b[39m+\u001b[39m\u001b[39m=\u001b[39m \u001b[39m\"\u001b[39m\u001b[39m,\u001b[39m\u001b[39m\"\u001b[39m\n",
      "\u001b[1;31mIndexError\u001b[0m: pop from empty list"
     ]
    }
   ],
   "source": [
    "user_sentence_input = input(\"Enter your sentence: \")\n",
    "user_sentence_list = user_sentence_input.split()\n",
    "consonants = \"bcdfghjklmnpqrstvwxzBCDFGHJKLMNPQRSTVWXZ\"\n",
    "\n",
    "list_sentence = []\n",
    "list_len_words = []\n",
    "\n",
    "for word in user_sentence_list:\n",
    "    list_len_words.append(len(word))\n",
    "\n",
    "for char in user_sentence_input:\n",
    "    if char in consonants:\n",
    "        list_sentence.append(char+\"o\"+char)\n",
    "    elif char not in consonants and char != \" \":\n",
    "        list_sentence.append(char)\n",
    "\n",
    "new_sentence = \"\"\n",
    "\n",
    "for i in list_len_words:\n",
    "    counter = i \n",
    "    while i > 0:\n",
    "        new_sentence += list_sentence.pop(0)\n",
    "        counter -= 1\n",
    "    new_sentence += \" \"\n",
    "    \n",
    "\n",
    "print(list_sentence)"
   ]
  }
 ],
 "metadata": {
  "kernelspec": {
   "display_name": "Python 3",
   "language": "python",
   "name": "python3"
  },
  "language_info": {
   "codemirror_mode": {
    "name": "ipython",
    "version": 3
   },
   "file_extension": ".py",
   "mimetype": "text/x-python",
   "name": "python",
   "nbconvert_exporter": "python",
   "pygments_lexer": "ipython3",
   "version": "3.10.11"
  },
  "orig_nbformat": 4,
  "vscode": {
   "interpreter": {
    "hash": "39b952706d9a56a0f6b1ae3a62b1b7641d49bf7de4c5a927b030017810e43a37"
   }
  }
 },
 "nbformat": 4,
 "nbformat_minor": 2
}
