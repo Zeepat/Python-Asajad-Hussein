{
 "cells": [
  {
   "cell_type": "markdown",
   "metadata": {},
   "source": [
    "# Exercise 1"
   ]
  },
  {
   "cell_type": "code",
   "execution_count": 7,
   "metadata": {},
   "outputs": [
    {
     "name": "stdout",
     "output_type": "stream",
     "text": [
      "[]\n"
     ]
    }
   ],
   "source": [
    "user_list = []\n",
    "user_input = input(\"Enter your input: \")\n",
    "while user_input != \"\":\n",
    "    user_list.append(user_input)\n",
    "    user_input = input(\"Enter your input: \")\n",
    "user_list.reverse()\n",
    "print(user_list)"
   ]
  },
  {
   "cell_type": "markdown",
   "metadata": {},
   "source": [
    "# Exercise 2"
   ]
  },
  {
   "cell_type": "code",
   "execution_count": 9,
   "metadata": {},
   "outputs": [
    {
     "name": "stdout",
     "output_type": "stream",
     "text": [
      "Three-Four-Five-Zero-Seven\n"
     ]
    }
   ],
   "source": [
    "number_words = {\n",
    "    \"0\": \"Zero\",\n",
    "    \"1\": \"One\", \n",
    "    \"2\": \"Two\", \n",
    "    \"3\": \"Three\", \n",
    "    \"4\": \"Four\", \n",
    "    \"5\": \"Five\", \n",
    "    \"6\": \"Six\", \n",
    "    \"7\": \"Seven\",\n",
    "    \"8\": \"Eight\",\n",
    "    \"9\": \"Nine\"\n",
    "    }\n",
    "number = input(\"Enter your number\")\n",
    "counter = len(number)\n",
    "for i in number:\n",
    "    if counter != 1:\n",
    "        print(number_words[i], end=\"-\")\n",
    "        counter -= 1\n",
    "    else:\n",
    "        print(number_words[i])\n"
   ]
  },
  {
   "cell_type": "markdown",
   "metadata": {},
   "source": [
    "# Exercise 3"
   ]
  },
  {
   "cell_type": "code",
   "execution_count": 26,
   "metadata": {},
   "outputs": [
    {
     "name": "stdout",
     "output_type": "stream",
     "text": [
      "Correct!\n",
      "You got 1 out of 1 correct answers. That is 100%\n"
     ]
    }
   ],
   "source": [
    "colours_glossary = {\n",
    "    \"red\": \"röd\", \n",
    "    \"orange\": \"orange\", \n",
    "    \"yellow\": \"gul\", \n",
    "    \"green\": \"grön\", \n",
    "    \"blue\": \"blå\", \n",
    "    \"purple\": \"lila\", \n",
    "    \"pink\": \"rosa\",\n",
    "    \"brown\": \"brun\",\n",
    "    \"black\": \"svart\",\n",
    "    \"gray\": \"grå\",\n",
    "    \"white\": \"vit\",\n",
    "    }\n",
    "correct_counter = 0\n",
    "total_counter = 0\n",
    "user_input = \"s\"\n",
    "while user_input != \"\":\n",
    "    for i in colours_glossary:\n",
    "        user_input = input(f'What is the swedish word for {i}?')\n",
    "        user_input_strip = user_input.strip()\n",
    "        user_input_lower = user_input_strip.lower()\n",
    "        if user_input_lower == \"\":\n",
    "            break\n",
    "        elif user_input_lower == colours_glossary[i]:\n",
    "            correct_counter += 1\n",
    "            total_counter += 1\n",
    "            print(\"Correct!\")\n",
    "        else:\n",
    "            total_counter += 1\n",
    "            print(f'That was incorrect. The correct answer is: {colours_glossary[i]}')\n",
    "accuracy = correct_counter / total_counter * 100\n",
    "print(f'You got {correct_counter} out of {total_counter} correct answers. That is {accuracy:.0f}%')"
   ]
  },
  {
   "cell_type": "markdown",
   "metadata": {},
   "source": [
    "# Exercise 4"
   ]
  },
  {
   "cell_type": "code",
   "execution_count": 9,
   "metadata": {},
   "outputs": [
    {
     "name": "stdout",
     "output_type": "stream",
     "text": [
      "Input A: green, red, yellow, purple, blue\n",
      "Input B: red, blue, black, white, brown\n",
      "Output: red, blue\n"
     ]
    }
   ],
   "source": [
    "user_input_1 = input(\"Enter your first comma-seperated list: \")\n",
    "user_input_2 = input(\"Enter your second comma-seperated list: \")\n",
    "\n",
    "user_new_1 = user_input_1.replace(\", \", \",\")\n",
    "user_new_2 = user_input_2.replace(\", \", \",\")\n",
    "\n",
    "user_list_1 = user_new_1.split(\",\")\n",
    "user_list_2 = user_new_2.split(\",\")\n",
    "\n",
    "new_list = []\n",
    "\n",
    "for i in user_list_1:\n",
    "    if i in user_list_2:\n",
    "        new_list.append(i)\n",
    "\n",
    "print(f'Input A: {user_input_1}')\n",
    "print(f'Input B: {user_input_2}')\n",
    "print(\"Output:\", end=\" \")\n",
    "for i in new_list:\n",
    "    if i == new_list[-1]:\n",
    "        print(i)\n",
    "    else:\n",
    "        print(i, end=\", \")"
   ]
  },
  {
   "cell_type": "markdown",
   "metadata": {},
   "source": [
    "# Exercise 5"
   ]
  },
  {
   "cell_type": "code",
   "execution_count": 23,
   "metadata": {},
   "outputs": [
    {
     "data": {
      "text/plain": [
       "'thirtyfour thousand fivehundred and seventeen'"
      ]
     },
     "execution_count": 23,
     "metadata": {},
     "output_type": "execute_result"
    }
   ],
   "source": [
    "def number_to_words(user_number_input):\n",
    "    number_list_single_digit = [\"\", \"one\", \"two\", \"three\", \"four\", \"five\", \"six\", \"seven\", \"eight\", \"nine\"]\n",
    "    number_list_teens = [\"ten\", \"eleven\", \"twelve\", \"thirteen\", \"fourteen\", \"fifteen\", \"sixteen\", \"seventeen\", \"eighteen\", \"nineteen\"]\n",
    "    number_list_tens = [\"\", \"\", \"twenty\", \"thirty\", \"forty\", \"fifty\", \"sixty\", \"seventy\", \"eighty\", \"ninety\"]\n",
    "\n",
    "    if user_number_input == 0:\n",
    "        return \"zero\"\n",
    "    elif user_number_input < 10:\n",
    "        return number_list_single_digit[user_number_input]\n",
    "    elif user_number_input < 20:\n",
    "        return number_list_teens[user_number_input - 10]\n",
    "    elif user_number_input < 100:\n",
    "        return number_list_tens[user_number_input // 10] + (\"\" + number_to_words(user_number_input % 10) if user_number_input != 0 else \"\")\n",
    "    elif user_number_input < 1000:\n",
    "        return number_list_single_digit[user_number_input // 100] + \"hundred\" + (\" and \" + number_to_words(user_number_input % 100) if user_number_input % 100 != 0 else \"\")\n",
    "    elif user_number_input < 100000:\n",
    "        return number_to_words(user_number_input // 1000) + \" thousand\" + (\" \" + number_to_words(user_number_input % 1000) if user_number_input % 1000 != 0 else \"\")\n",
    "    else:\n",
    "        return \"Number is out of range\"\n",
    "\n",
    "user_number_input = int(input(\"Enter your number: \"))\n",
    "number_to_words(user_number_input)"
   ]
  }
 ],
 "metadata": {
  "kernelspec": {
   "display_name": "Python-Programming-Asajad-Hussein-wqUMovOj",
   "language": "python",
   "name": "python3"
  },
  "language_info": {
   "codemirror_mode": {
    "name": "ipython",
    "version": 3
   },
   "file_extension": ".py",
   "mimetype": "text/x-python",
   "name": "python",
   "nbconvert_exporter": "python",
   "pygments_lexer": "ipython3",
   "version": "3.11.5"
  },
  "orig_nbformat": 4
 },
 "nbformat": 4,
 "nbformat_minor": 2
}
