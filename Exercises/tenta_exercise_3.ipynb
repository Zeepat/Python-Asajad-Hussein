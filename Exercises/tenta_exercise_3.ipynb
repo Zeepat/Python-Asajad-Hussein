{
 "cells": [
  {
   "cell_type": "code",
   "execution_count": 26,
   "metadata": {},
   "outputs": [
    {
     "name": "stdout",
     "output_type": "stream",
     "text": [
      "# # # # # # # 0 0 0 0 0 #\n",
      "# 0 0 0 0 #\n",
      "# # 0 0 0 #\n",
      "# # # 0 0 #\n",
      "# # # # 0 #\n",
      "# # # # # #\n"
     ]
    }
   ],
   "source": [
    "def function(n):\n",
    "    n += 1\n",
    "    if n == 1:\n",
    "        print(\"#\")\n",
    "    \n",
    "    else:\n",
    "        left_side = 0\n",
    "        stop = n - 2\n",
    "        amount = n - 2\n",
    "\n",
    "        for char in range(n):\n",
    "            if char != n + 1:\n",
    "                print(\"#\", end=\" \")\n",
    "            else:\n",
    "                print(\"#\", end=\"\\n\")\n",
    "        \n",
    "        while left_side <= stop:\n",
    "            for char in range(left_side):\n",
    "                print(\"#\", end=\" \")\n",
    "\n",
    "            for char in range(amount):\n",
    "                print(\"0\", end=\" \")\n",
    "\n",
    "            print(\"#\", end=\"\\n\")\n",
    "\n",
    "            left_side += 1\n",
    "            amount -= 1\n",
    "\n",
    "\n",
    "\n",
    "function(6)\n",
    "            "
   ]
  }
 ],
 "metadata": {
  "kernelspec": {
   "display_name": "Python 3",
   "language": "python",
   "name": "python3"
  },
  "language_info": {
   "codemirror_mode": {
    "name": "ipython",
    "version": 3
   },
   "file_extension": ".py",
   "mimetype": "text/x-python",
   "name": "python",
   "nbconvert_exporter": "python",
   "pygments_lexer": "ipython3",
   "version": "3.11.5"
  }
 },
 "nbformat": 4,
 "nbformat_minor": 2
}
