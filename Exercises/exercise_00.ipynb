{
 "cells": [
  {
   "attachments": {},
   "cell_type": "markdown",
   "metadata": {},
   "source": [
    "# Exercise 1\n",
    "**a)**"
   ]
  },
  {
   "cell_type": "code",
   "execution_count": 4,
   "metadata": {},
   "outputs": [
    {
     "name": "stdout",
     "output_type": "stream",
     "text": [
      "5.0\n"
     ]
    }
   ],
   "source": [
    "import math\n",
    "# The pythagoreon theorem states that a^2 + b^2 = c^2 where a and b are catheti and c is the hypotenuse. I will use this to calculate the hypotenuse\n",
    "s_a = 3         # Side a\n",
    "s_b = 4         # Side b\n",
    "c_squared = s_a**2 + s_b**2        # Calculating c^2\n",
    "c = math.sqrt(c_squared)      # Calculating c\n",
    "print(c)           # Printing c"
   ]
  },
  {
   "attachments": {},
   "cell_type": "markdown",
   "metadata": {},
   "source": [
    "**b)**"
   ]
  },
  {
   "cell_type": "code",
   "execution_count": 9,
   "metadata": {},
   "outputs": [
    {
     "name": "stdout",
     "output_type": "stream",
     "text": [
      "4.9\n"
     ]
    }
   ],
   "source": [
    "import math\n",
    "# Using the same theorem, however this time I will be rearranging it. \n",
    "# a^2 + b^2 = c^2 ---> c^2 - a^2 = b^2\n",
    "\n",
    "c = 7       # Hypotenuse\n",
    "s_a = 5     # side a\n",
    "\n",
    "s_b_squared = c**2 - s_a**2         # Calculating b^2\n",
    "s_b = math.sqrt(s_b_squared)        # Calculating b\n",
    "print(f\"{s_b:.1f}\")     # Printing b to one decimal using f-string"
   ]
  },
  {
   "attachments": {},
   "cell_type": "markdown",
   "metadata": {},
   "source": [
    "# Exercise 2"
   ]
  },
  {
   "cell_type": "code",
   "execution_count": 21,
   "metadata": {},
   "outputs": [
    {
     "name": "stdout",
     "output_type": "stream",
     "text": [
      "82.19%\n"
     ]
    }
   ],
   "source": [
    "# I will be calculating the accuracy using the success divided by the total.\n",
    "total_amount = 365 # Total amount\n",
    "correct_amount = 300 # Correct (success) amount\n",
    "accuracy = correct_amount/total_amount # Accuracy calculation\n",
    "print(f\"{accuracy:.2%}\") # Printing the accuracy in percentage rounding to two decimals using f-string"
   ]
  },
  {
   "attachments": {},
   "cell_type": "markdown",
   "metadata": {},
   "source": [
    "# Exercise 3"
   ]
  },
  {
   "cell_type": "code",
   "execution_count": 23,
   "metadata": {},
   "outputs": [
    {
     "name": "stdout",
     "output_type": "stream",
     "text": [
      "98.70%\n"
     ]
    }
   ],
   "source": [
    "# Calculations:\n",
    "# The formula goes as following: (TP + TN) / (TP + TN + FP + FN)\n",
    "# We are calculating the accuracy using the success divided by total again such as in exercise 2\n",
    "\n",
    "TP = 2 # True positive\n",
    "TN = 985 # True negative\n",
    "FP = 2 # False positive\n",
    "FN = 11 # False negative\n",
    "accuracy = (TP + TN) / (TP + TN + FP + FN) # Calculation\n",
    "print(f\"{accuracy:.2%}\") # Printing the accuract in percentage rounding to two decimals using f-string"
   ]
  },
  {
   "attachments": {},
   "cell_type": "markdown",
   "metadata": {},
   "source": [
    "This method of calculating the accuracy is not great for this type of experiment because it contains more variables for success and unsuccessful, such as false positive and true negative. Thus using them in the same type of calculation would lead to a deviation in a correct result."
   ]
  },
  {
   "attachments": {},
   "cell_type": "markdown",
   "metadata": {},
   "source": [
    "# Exercise 4"
   ]
  },
  {
   "cell_type": "code",
   "execution_count": 27,
   "metadata": {},
   "outputs": [
    {
     "name": "stdout",
     "output_type": "stream",
     "text": [
      "k = 0.75\n",
      "m = 1\n",
      "y = 0.75x + 1\n"
     ]
    }
   ],
   "source": [
    "# Equation for a line on a graph: kx + m = y where k is the gradient, m is the y-intersect and x and y are the coordinates on the graph.\n",
    "# Equation for k: k = delta_y / delta_x where delta_x and delta_y is the difference between two point on the graph, eg (y_2 - y_1) / (x_2 - x_1) = k\n",
    "\n",
    "x_1 = 4 # x-coordinate of point 1\n",
    "y_1 = 4 # y-coordinate of point 1\n",
    "x_2 = 0 # x-coordinate of point 2\n",
    "y_2 = 1 # y-coordinate of point 2\n",
    "\n",
    "k = (y_2 - y_1) / (x_2 - x_1) # Formula for k\n",
    "print(f\"k = {k}\") # Printing k\n",
    "\n",
    "# Calculating m\n",
    "# If using points (0, 1), putting it into the equation would be:\n",
    "# 1 = 0k + m, thus 1 = m\n",
    "\n",
    "m = 1 # Setting a value for m\n",
    "print(f\"m = {m}\") # Printing m\n",
    "\n",
    "print(f\"y = {k}x + {m}\") # Printing the whole equation"
   ]
  },
  {
   "attachments": {},
   "cell_type": "markdown",
   "metadata": {},
   "source": [
    "# Exercise 5"
   ]
  },
  {
   "cell_type": "code",
   "execution_count": 36,
   "metadata": {},
   "outputs": [
    {
     "name": "stdout",
     "output_type": "stream",
     "text": [
      "The distance is around 5.1 length units.\n"
     ]
    }
   ],
   "source": [
    "import math\n",
    "# Formula for distance between points goes as follows:\n",
    "# sqrt((x_2 - x_1)^2 + (y_2 - y_1)^2) = distance\n",
    "\n",
    "x_1 = 3  # x-coordinate of point 1\n",
    "y_1 = 5  # y-coordinate of point 1\n",
    "x_2 = -2 # x-coordinate of point 2\n",
    "y_2 = 4  # y-coordinate of point 2\n",
    "\n",
    "distance = math.sqrt((x_2 - x_1)**2 + (y_2 - y_1)**2) # Using the formula\n",
    "print(f\"The distance is around {distance:.1f} length units.\") # Printing the distance and rounding it to one decimal using f-string"
   ]
  },
  {
   "attachments": {},
   "cell_type": "markdown",
   "metadata": {},
   "source": [
    "# Exercise 6"
   ]
  }
 ],
 "metadata": {
  "kernelspec": {
   "display_name": "Python 3",
   "language": "python",
   "name": "python3"
  },
  "language_info": {
   "codemirror_mode": {
    "name": "ipython",
    "version": 3
   },
   "file_extension": ".py",
   "mimetype": "text/x-python",
   "name": "python",
   "nbconvert_exporter": "python",
   "pygments_lexer": "ipython3",
   "version": "3.11.2"
  },
  "orig_nbformat": 4,
  "vscode": {
   "interpreter": {
    "hash": "39b952706d9a56a0f6b1ae3a62b1b7641d49bf7de4c5a927b030017810e43a37"
   }
  }
 },
 "nbformat": 4,
 "nbformat_minor": 2
}
