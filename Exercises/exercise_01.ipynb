{
 "cells": [
  {
   "attachments": {},
   "cell_type": "markdown",
   "metadata": {},
   "source": [
    "# Exercise 1"
   ]
  },
  {
   "cell_type": "code",
   "execution_count": 4,
   "metadata": {},
   "outputs": [
    {
     "name": "stdout",
     "output_type": "stream",
     "text": [
      "Your number 450 is positive\n"
     ]
    }
   ],
   "source": [
    "x = int(input(\"Enter your number: \"))       # Input to enter your number\n",
    "\n",
    "if x < 0:                                   # Checks if it is negative\n",
    "    print(f\"Your number {x} is negative\")   # Prints that your number is negative if if-statement is true\n",
    "\n",
    "elif x > 0:                                 # Checks if it is positive\n",
    "    print(f\"Your number {x} is positive\")   # Prints that your number is positive if if-statement is true\n",
    "    \n",
    "else:                                       # Checks if it is zero\n",
    "    print(f\"Your number {x} is zero\")       # Prints that your number is zero if if-statement is true"
   ]
  },
  {
   "attachments": {},
   "cell_type": "markdown",
   "metadata": {},
   "source": [
    "# Exercise 2"
   ]
  },
  {
   "cell_type": "code",
   "execution_count": 8,
   "metadata": {},
   "outputs": [
    {
     "name": "stdout",
     "output_type": "stream",
     "text": [
      "120 is smaller than 432\n"
     ]
    }
   ],
   "source": [
    "x = int(input(\"Enter your first number: \"))      # Input for your first number\n",
    "y = int(input(\"Enter your second number: \"))     # Input for your second number\n",
    "\n",
    "if x < y:                                        # Checks if first number (x) is smaller than second number (y)\n",
    "    print(f\"{x} is smaller than {y}\")            # Prints that x is smaller than y if if-statement is true\n",
    "else:\n",
    "    print(f\"{y} is smaller than {x}\")            # Prints that y is smaller than x if if-statement is false"
   ]
  },
  {
   "attachments": {},
   "cell_type": "markdown",
   "metadata": {},
   "source": [
    "# Exercise 3"
   ]
  },
  {
   "cell_type": "code",
   "execution_count": 20,
   "metadata": {},
   "outputs": [
    {
     "name": "stdout",
     "output_type": "stream",
     "text": [
      "Your triangle is a right-angled triangle!\n"
     ]
    }
   ],
   "source": [
    "x = int(input(\"Enter your first angle: \"))                      # Input for first angle (x)\n",
    "y = int(input(\"Enter your second angle: \"))                     # Input for second angle (y)\n",
    "z = int(input(\"Enter your third angle: \"))                      # Input for third angle (z)\n",
    "\n",
    "if x + y + z > 180 or x + y + z < 180:                          # Checks if all three angles add up to higher or lower than 180 in order to check if\n",
    "    print(\"Your angles do not make up a triangle.\")             # it is a triangle, and if true, print out that the angles do not make up a triangle.\n",
    "\n",
    "elif x == 90 or y == 90 or z == 90:                             # Checks if any of the angles are 90 degrees to make up whether or not its right-angled.\n",
    "    print(\"Your triangle is a right-angled triangle!\")          # Printing out that your triangle is right-angled if if-statement is true.\n",
    "\n",
    "else:\n",
    "    print(\"Your triangle is not a right-angled triangle.\")      # Printing out that your triangle is not right-angled if if-statement is false."
   ]
  },
  {
   "attachments": {},
   "cell_type": "markdown",
   "metadata": {},
   "source": [
    "# Exercise 4"
   ]
  },
  {
   "cell_type": "code",
   "execution_count": 25,
   "metadata": {},
   "outputs": [
    {
     "name": "stdout",
     "output_type": "stream",
     "text": [
      "Number of pills: 1/2\n"
     ]
    }
   ],
   "source": [
    "age = int(input(\"Enter your age: \"))            # Input for age\n",
    "weight = int(input(\"Enter your weight: \"))      # Input for weight\n",
    "\n",
    "if age > 12:                                    # Checking if age is over 12\n",
    "    print(\"Number of pills: 1 - 2\")             # Printing out 1-2 pills if if-statement is true\n",
    "\n",
    "elif weight >= 26:                              # Checking if weight is more or equal to 26 if previous statement was false\n",
    "    print(\"Number of pills: 1/2 - 1\")           # Printing out 1/2 - 2 pills if if-statement is true\n",
    "\n",
    "else:                                           # If previous if-statement was false it will print out \"1/2 pills\".\n",
    "    print(\"Number of pills: 1/2\")"
   ]
  },
  {
   "attachments": {},
   "cell_type": "markdown",
   "metadata": {},
   "source": [
    "# Exercise 5"
   ]
  },
  {
   "cell_type": "code",
   "execution_count": 33,
   "metadata": {},
   "outputs": [
    {
     "name": "stdout",
     "output_type": "stream",
     "text": [
      "Your number is even but not divisible by 5.\n"
     ]
    }
   ],
   "source": [
    "x = int(input(\"Enter your number: \"))                           # Input for your number\n",
    "\n",
    "if x % 5 == 0 and x % 2 == 1:                                   # First if-statement is to check if it is divisible by 5 but not 2, then printing out\n",
    "    print(\"Your number is divisible by 5 and odd!\")             # the correct statement if the if-statement is true\n",
    "\n",
    "elif x % 5 == 0 and x % 2 == 0:                                 # If previous if-statement is false, it will check a second time if it is divisible\n",
    "    print(\"Your number is divisible by 5 and even!\")            # by 5 and 2 then printing out the correct statement if true.\n",
    "\n",
    "elif x % 2 == 0:                                                # If previous if-statement is false, it will check a third time if it is even and will\n",
    "    print(\"Your number is even but not divisible by 5.\")        # print out that it is even but not divisible by 5.\n",
    "\n",
    "else:                                                           # If all previous if-statements are false, then it must be odd and not divisible by 5,\n",
    "    print(\"Your number is odd but not divisible by 5.\")         # thus printing that out."
   ]
  },
  {
   "attachments": {},
   "cell_type": "markdown",
   "metadata": {},
   "source": [
    "# Exercise 6"
   ]
  },
  {
   "cell_type": "code",
   "execution_count": 39,
   "metadata": {},
   "outputs": [
    {
     "name": "stdout",
     "output_type": "stream",
     "text": [
      "Your luggage is allowed!\n"
     ]
    }
   ],
   "source": [
    "weight = int(input(\"Enter your luggage weight (kg): \"))          # Input for weight\n",
    "length = int(input(\"Enter your luggage length (cm): \"))          # Input for length\n",
    "width = int(input(\"Enter your luggage width (cm): \"))            # Input for width\n",
    "height = int(input(\"Enter your luggage height (cm): \"))          # Input for height\n",
    "\n",
    "if weight > 8 or length > 55 or width > 40 or height > 23:       # Checks if any of the inputs are higher than the allowed amount. If true print out\n",
    "    print(\"Your luggage is not allowed.\")                        # that the luggage is not allowed.\n",
    "\n",
    "else:                                                            # Else if false, print out that the luggage is allowed.\n",
    "    print(\"Your luggage is allowed!\")"
   ]
  }
 ],
 "metadata": {
  "kernelspec": {
   "display_name": "Python 3",
   "language": "python",
   "name": "python3"
  },
  "language_info": {
   "codemirror_mode": {
    "name": "ipython",
    "version": 3
   },
   "file_extension": ".py",
   "mimetype": "text/x-python",
   "name": "python",
   "nbconvert_exporter": "python",
   "pygments_lexer": "ipython3",
   "version": "3.11.2"
  },
  "orig_nbformat": 4,
  "vscode": {
   "interpreter": {
    "hash": "39b952706d9a56a0f6b1ae3a62b1b7641d49bf7de4c5a927b030017810e43a37"
   }
  }
 },
 "nbformat": 4,
 "nbformat_minor": 2
}
