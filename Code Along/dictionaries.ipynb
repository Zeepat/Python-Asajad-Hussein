{
 "cells": [
  {
   "cell_type": "markdown",
   "metadata": {},
   "source": [
    "# Dictionaries\n",
    "- Dictionaries are used to store data in key-value pairs\n",
    "- Keys are used to access values, and must be unique.\n",
    "- Only immutable types (eg. string, int, float, bool) can be used as keys.\n",
    "- Dictionaries are ordered"
   ]
  },
  {
   "cell_type": "code",
   "execution_count": 15,
   "metadata": {},
   "outputs": [
    {
     "name": "stdout",
     "output_type": "stream",
     "text": [
      "teacher[\"contactinfo\"][\"email\"] = ['hussein.asajad@gmail.com', 'asajad@gmail.com', 'firstzpat@gmail.com']\n",
      "teacher = {'firstname': 'Asajad', 'age': 22, 'languages': ['Python', 'C#', 'Javascript'], 'contactinfo': {'phone': '0790767647', 'email': ['hussein.asajad@gmail.com', 'asajad@gmail.com', 'firstzpat@gmail.com']}, 'length': 1.8}\n",
      "removed_value = 'Hussein'\n"
     ]
    }
   ],
   "source": [
    "# Create empty dictionary\n",
    "empty_dictionary = {}\n",
    "\n",
    "# Create dictionary with items\n",
    "teacher = {\n",
    "    \"firstname\": \"Asajad\",\n",
    "    \"lastname\": \"Hussein\",\n",
    "    \"age\": 22,\n",
    "    \"languages\": [\"Python\", \"C#\", \"Javascript\"],\n",
    "    \"contactinfo\": {\n",
    "        \"phone\": \"0790767647\",\n",
    "        \"email\": [\n",
    "            \"hussein.asajad@gmail.com\",\n",
    "            \"asajad@gmail.com\",\n",
    "            \"firstzpat@gmail.com\"]\n",
    "    }\n",
    "    }\n",
    "\n",
    "# Get number of items in dictionary\n",
    "print(f'{teacher[\"contactinfo\"][\"email\"] = }')\n",
    "\n",
    "# Add key to dictionary\n",
    "teacher[\"length\"] = 1.80\n",
    "\n",
    "# Remove key and return value from dictionary\n",
    "removed_value = teacher.pop(\"lastname\")\n",
    "\n",
    "print(f\"{teacher = }\")\n",
    "print(f\"{removed_value = }\")\n"
   ]
  },
  {
   "cell_type": "markdown",
   "metadata": {},
   "source": [
    "# Get value using key"
   ]
  },
  {
   "cell_type": "code",
   "execution_count": 21,
   "metadata": {},
   "outputs": [
    {
     "name": "stdout",
     "output_type": "stream",
     "text": [
      ":(\n"
     ]
    }
   ],
   "source": [
    "key = input(\"Enter key: \")\n",
    "\n",
    "if key in teacher:\n",
    "    print(teacher[key])\n",
    "else:\n",
    "    print(\":(\")"
   ]
  },
  {
   "cell_type": "code",
   "execution_count": 22,
   "metadata": {},
   "outputs": [
    {
     "name": "stdout",
     "output_type": "stream",
     "text": [
      ":(\n"
     ]
    }
   ],
   "source": [
    "key = input(\"Enter key: \")\n",
    "print(teacher.get(key, \":(\"))"
   ]
  },
  {
   "cell_type": "markdown",
   "metadata": {},
   "source": [
    "# Looping through a dictionary"
   ]
  },
  {
   "cell_type": "code",
   "execution_count": 29,
   "metadata": {},
   "outputs": [
    {
     "name": "stdout",
     "output_type": "stream",
     "text": [
      "firstname\n",
      "age\n",
      "languages\n",
      "contactinfo\n",
      "length\n",
      "\n",
      "Asajad\n",
      "22\n",
      "['Python', 'C#', 'Javascript']\n",
      "{'phone': '0790767647', 'email': ['hussein.asajad@gmail.com', 'asajad@gmail.com', 'firstzpat@gmail.com']}\n",
      "1.8\n",
      "\n",
      "Asajad\n",
      "22\n",
      "['Python', 'C#', 'Javascript']\n",
      "{'phone': '0790767647', 'email': ['hussein.asajad@gmail.com', 'asajad@gmail.com', 'firstzpat@gmail.com']}\n",
      "1.8\n",
      "\n",
      "firstname = Asajad\n",
      "age = 22\n",
      "languages = ['Python', 'C#', 'Javascript']\n",
      "contactinfo = {'phone': '0790767647', 'email': ['hussein.asajad@gmail.com', 'asajad@gmail.com', 'firstzpat@gmail.com']}\n",
      "length = 1.8\n"
     ]
    }
   ],
   "source": [
    "for key in teacher.keys():\n",
    "    print(key)\n",
    "\n",
    "print()\n",
    "for value in teacher.values():\n",
    "    print(value)\n",
    "\n",
    "print()\n",
    "\n",
    "for key in teacher:\n",
    "    print(teacher[key])\n",
    "    # print(f\"{key} = {teacher[key]}\")  \n",
    "     \n",
    "print()\n",
    "\n",
    "for key, value in teacher.items():\n",
    "    print(f\"{key} = {value}\")"
   ]
  },
  {
   "cell_type": "code",
   "execution_count": 30,
   "metadata": {},
   "outputs": [
    {
     "name": "stdout",
     "output_type": "stream",
     "text": [
      "1.8\n",
      "1.8\n",
      "1.8\n",
      "1.8\n",
      "1.8\n"
     ]
    }
   ],
   "source": [
    "for key in teacher:\n",
    "    print(value)"
   ]
  }
 ],
 "metadata": {
  "kernelspec": {
   "display_name": "Python 3",
   "language": "python",
   "name": "python3"
  },
  "language_info": {
   "codemirror_mode": {
    "name": "ipython",
    "version": 3
   },
   "file_extension": ".py",
   "mimetype": "text/x-python",
   "name": "python",
   "nbconvert_exporter": "python",
   "pygments_lexer": "ipython3",
   "version": "3.10.11"
  },
  "orig_nbformat": 4
 },
 "nbformat": 4,
 "nbformat_minor": 2
}
