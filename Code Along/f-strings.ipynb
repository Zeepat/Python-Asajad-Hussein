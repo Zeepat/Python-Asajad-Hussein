{
 "cells": [
  {
   "attachments": {},
   "cell_type": "markdown",
   "metadata": {},
   "source": [
    "# f-Strings (Formatted string literals)\n",
    "- literally starts with f or F.\n",
    "- variables or expressions can be inserted using {}\n",
    "- use = after expression to print expression and result (not only result)\n",
    "- quotes can be used inside expressiono as long as they differ from the quotetype of the f-String\n",
    "- For padding and alignment, use :{padding character}{width}{alignment}\n",
    "- Aligntments : left - <, center - ^, right >. Defaulöt alignment is left for string, right for numerics.\n",
    "- Data type: Add data type after padding and alignment eg: x:<20.2f\n",
    "- Data type formats: Fixed-point notation (f), Exponent notation (e), Percentage(%). Default precision is 6.\n",
    "- Use comma for thousands seperation eg: (1000:,) or (1000:,.2f)"
   ]
  },
  {
   "cell_type": "code",
   "execution_count": 22,
   "metadata": {},
   "outputs": [
    {
     "name": "stdout",
     "output_type": "stream",
     "text": [
      "Hello Asajad    !\n",
      "5 + 8 = 13\n",
      "Hej 'Asajad'.\n",
      "Hej \"Asajad\".\n",
      "Hej \"Asajad'.\n",
      "3.14e+00\n",
      "0.78\n",
      "7.800e-01\n",
      "78.000000%\n",
      "10,000,000.00\n"
     ]
    }
   ],
   "source": [
    "name = \"Asajad\" #input(\"Enter your name: \")\n",
    "myString = f\"Hello {name:10}!\"\n",
    "print(myString)\n",
    "\n",
    "print(f\"{5 + 8 = }\")\n",
    "\n",
    "print(f\"Hej 'Asajad'.\")\n",
    "print(f'Hej \"Asajad\".')\n",
    "print(f\"Hej \\\"Asajad'.\")\n",
    "\n",
    "print(f\"{3.1415:.2e}\")\n",
    "print(f\"{0.78:.2f}\")\n",
    "print(f\"{0.78:.3e}\")\n",
    "print(f\"{0.78:%}\")\n",
    "print(f\"{10000000:,.2f}\")"
   ]
  },
  {
   "cell_type": "code",
   "execution_count": 18,
   "metadata": {},
   "outputs": [
    {
     "name": "stdout",
     "output_type": "stream",
     "text": [
      "Firstname           Lastname\n",
      "Asajad              Hussein\n"
     ]
    }
   ],
   "source": [
    "first_name = \"Asajad\"\n",
    "last_name = \"Hussein\"\n",
    "\n",
    "print(f\"{'Firstname':20}{'Lastname'}\")\n",
    "print(f\"{first_name:20}{last_name}\")"
   ]
  }
 ],
 "metadata": {
  "kernelspec": {
   "display_name": "Python 3",
   "language": "python",
   "name": "python3"
  },
  "language_info": {
   "codemirror_mode": {
    "name": "ipython",
    "version": 3
   },
   "file_extension": ".py",
   "mimetype": "text/x-python",
   "name": "python",
   "nbconvert_exporter": "python",
   "pygments_lexer": "ipython3",
   "version": "3.10.11"
  },
  "orig_nbformat": 4
 },
 "nbformat": 4,
 "nbformat_minor": 2
}
