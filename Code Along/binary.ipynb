{
 "cells": [
  {
   "cell_type": "markdown",
   "metadata": {},
   "source": [
    "0000 - 0\n",
    "0001 - 1\n",
    "0010 - 2\n",
    "0011 - 3\n",
    "0100 - 4\n",
    "0101 - 5\n",
    "0110 - 6\n",
    "0111 - 7\n",
    "1000 - 8\n",
    "1001 - 9\n",
    "1010 - 10\n",
    "1011 - 11\n",
    "1100 - 12\n",
    "1101 - 13\n",
    "1110 - 14\n",
    "1111 - 15"
   ]
  }
 ],
 "metadata": {
  "language_info": {
   "name": "python"
  },
  "orig_nbformat": 4
 },
 "nbformat": 4,
 "nbformat_minor": 2
}
