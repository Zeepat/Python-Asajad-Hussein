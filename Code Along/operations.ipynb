{
 "cells": [
  {
   "cell_type": "markdown",
   "metadata": {},
   "source": [
    "# Operator Precedence\n",
    "Operator precedence describes the order in which operations are performed.\n",
    "\n",
    "https://www.w3schools.com/python/python_operators.asp"
   ]
  },
  {
   "cell_type": "markdown",
   "metadata": {},
   "source": [
    "# Membership operators\n",
    "Membership operators are used to test if a sequence is presented in an object.\n",
    "- in\n",
    "- not in"
   ]
  },
  {
   "cell_type": "code",
   "execution_count": 5,
   "metadata": {},
   "outputs": [
    {
     "name": "stdout",
     "output_type": "stream",
     "text": [
      "'orange' in fruits = True\n",
      "'melon' in fruits = False\n",
      "'ri' in fruits = False\n"
     ]
    }
   ],
   "source": [
    "fruits = [\"apple\", \"banana\", \"cherry\", \"orange\", \"apple\"]\n",
    "print(f\"{'orange' in fruits = }\")\n",
    "print(f\"{'melon' in fruits = }\")\n",
    "print(f\"{'ri' in fruits = }\")"
   ]
  }
 ],
 "metadata": {
  "kernelspec": {
   "display_name": "Python 3",
   "language": "python",
   "name": "python3"
  },
  "language_info": {
   "codemirror_mode": {
    "name": "ipython",
    "version": 3
   },
   "file_extension": ".py",
   "mimetype": "text/x-python",
   "name": "python",
   "nbconvert_exporter": "python",
   "pygments_lexer": "ipython3",
   "version": "3.11.2 (main, Mar 31 2023, 23:12:54) [Clang 13.0.0 (clang-1300.0.29.30)]"
  },
  "orig_nbformat": 4,
  "vscode": {
   "interpreter": {
    "hash": "39b952706d9a56a0f6b1ae3a62b1b7641d49bf7de4c5a927b030017810e43a37"
   }
  }
 },
 "nbformat": 4,
 "nbformat_minor": 2
}
