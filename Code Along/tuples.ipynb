{
 "cells": [
  {
   "cell_type": "markdown",
   "metadata": {},
   "source": [
    "# Tuples\n",
    "- Tuples are used to store multiple items in a single variable.\n",
    "- Tuple items are ordered unchangeable and allow duplicate values.\n",
    "- Tuple allows different data types and a mic of data types.\n",
    "- Tuple items are indexed, the first item has index [0], the second items has index [1], and so on.\n",
    "- Tuples are writted with round brackets. Ex. (), (1,), (1, 2), (1, 2, 3) etc."
   ]
  },
  {
   "cell_type": "code",
   "execution_count": 3,
   "metadata": {},
   "outputs": [
    {
     "name": "stdout",
     "output_type": "stream",
     "text": [
      "my_tuple[0] = 'Asajad'\n",
      "my_tuple = ('Sven', 22, 'Zeepat')\n"
     ]
    }
   ],
   "source": [
    "# Create empty tuple\n",
    "empty_tuple = ()\n",
    "\n",
    "# Create tuple with one item\n",
    "single_item_tuple = (1, )\n",
    "\n",
    "# Create tuple with items\n",
    "my_tuple = (\"Asajad\", 22, \"Zeepat\")\n",
    "\n",
    "# Tuples can be indexed (and sliced)\n",
    "print(f'{my_tuple[0] = }')\n",
    "\n",
    "# But individual items can not be altered\n",
    "# my_tuple[0] = \"Sven\"\n",
    "\n",
    "# The workaround to alter items is to convert to list and back.\n",
    "my_list = list(my_tuple)\n",
    "my_list[0] = \"Sven\"\n",
    "my_tuple = tuple(my_list)\n",
    "\n",
    "print(f'{my_tuple = }')"
   ]
  },
  {
   "cell_type": "markdown",
   "metadata": {},
   "source": [
    "# Unpacking a tuple\n",
    "When we create a tuple, we normally assign values to it. This is called packing a tuple. \n",
    "\n",
    "We are also allowed to extract the values back into variable. This is called unpacking."
   ]
  },
  {
   "cell_type": "code",
   "execution_count": 5,
   "metadata": {},
   "outputs": [
    {
     "name": "stdout",
     "output_type": "stream",
     "text": [
      "name = 'Sven'\n",
      "age = 22\n",
      "company = 'Zeepat'\n"
     ]
    }
   ],
   "source": [
    "name, age, company = my_tuple\n",
    "print(f'{name = }')\n",
    "print(f'{age = }')\n",
    "print(f'{company = }')"
   ]
  },
  {
   "cell_type": "markdown",
   "metadata": {},
   "source": [
    "# Looping through tuple"
   ]
  },
  {
   "cell_type": "code",
   "execution_count": 8,
   "metadata": {},
   "outputs": [
    {
     "name": "stdout",
     "output_type": "stream",
     "text": [
      "Sven\n",
      "22\n",
      "Zeepat\n"
     ]
    }
   ],
   "source": [
    "for item in my_tuple:\n",
    "    print(item)"
   ]
  },
  {
   "cell_type": "code",
   "execution_count": 9,
   "metadata": {},
   "outputs": [
    {
     "name": "stdout",
     "output_type": "stream",
     "text": [
      "Sven\n",
      "22\n",
      "Zeepat\n"
     ]
    }
   ],
   "source": [
    "for i in range(len(my_tuple)):\n",
    "    print(my_tuple[i])"
   ]
  }
 ],
 "metadata": {
  "kernelspec": {
   "display_name": "Python-Programming-Asajad-Hussein-wqUMovOj",
   "language": "python",
   "name": "python3"
  },
  "language_info": {
   "codemirror_mode": {
    "name": "ipython",
    "version": 3
   },
   "file_extension": ".py",
   "mimetype": "text/x-python",
   "name": "python",
   "nbconvert_exporter": "python",
   "pygments_lexer": "ipython3",
   "version": "3.11.5"
  },
  "orig_nbformat": 4
 },
 "nbformat": 4,
 "nbformat_minor": 2
}
