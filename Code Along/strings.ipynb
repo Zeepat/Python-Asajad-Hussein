{
 "cells": [
  {
   "cell_type": "markdown",
   "metadata": {},
   "source": [
    "# Strings\n",
    "- Data type used in Python for storing text.\n",
    "- Literal values with single or double quotes. 'Single', \"Double\"\n",
    "- Strings are immutable (meaning not changeable)"
   ]
  },
  {
   "cell_type": "markdown",
   "metadata": {},
   "source": [
    "## Concatenate\n",
    "In python we can concatenate two or more strings using the + operator."
   ]
  },
  {
   "cell_type": "code",
   "execution_count": 5,
   "metadata": {},
   "outputs": [
    {
     "name": "stdout",
     "output_type": "stream",
     "text": [
      "HelloWorld\n",
      "Hello World\n"
     ]
    }
   ],
   "source": [
    "string1 = \"Hello\"\n",
    "string2 = \"World\"\n",
    "\n",
    "string3 = string1 + string2\n",
    "print(string3)\n",
    "\n",
    "string3 = string1 + \" \" + string2\n",
    "print(string3)"
   ]
  },
  {
   "cell_type": "markdown",
   "metadata": {},
   "source": [
    "## Multiline strings\n",
    "Pythong allows string literals to span multiple rows if started, and ended, by \"\"\""
   ]
  },
  {
   "cell_type": "code",
   "execution_count": 9,
   "metadata": {},
   "outputs": [
    {
     "name": "stdout",
     "output_type": "stream",
     "text": [
      "This\n",
      "is\n",
      "an\n",
      "example!\n",
      "\n",
      "This\n",
      "is\n",
      "another\n",
      "example!\n"
     ]
    }
   ],
   "source": [
    "text = \"\"\"This\n",
    "is\n",
    "an\n",
    "example!\"\"\"\n",
    "\n",
    "print(text)\n",
    "\n",
    "print()\n",
    "\n",
    "if True:\n",
    "    text = '''This\n",
    "is\n",
    "another\n",
    "example!'''\n",
    "    print(text)"
   ]
  },
  {
   "cell_type": "markdown",
   "metadata": {},
   "source": [
    "## Indexing and slicing"
   ]
  },
  {
   "cell_type": "code",
   "execution_count": 16,
   "metadata": {},
   "outputs": [
    {
     "name": "stdout",
     "output_type": "stream",
     "text": [
      "name = 'Asajad'\n",
      "name[0] = 'A'\n",
      "name[-1] = 'd'\n",
      "name[:3] = 'Asa'\n"
     ]
    }
   ],
   "source": [
    "name = \"Asajad\"\n",
    "print(f\"{name = }\")\n",
    "print(f\"{name[0] = }\")\n",
    "print(f\"{name[-1] = }\")\n",
    "print(f\"{name[:3] = }\")"
   ]
  },
  {
   "cell_type": "markdown",
   "metadata": {},
   "source": [
    "## Looping through a string"
   ]
  },
  {
   "cell_type": "code",
   "execution_count": 22,
   "metadata": {},
   "outputs": [
    {
     "name": "stdout",
     "output_type": "stream",
     "text": [
      "A\n",
      "s\n",
      "a\n",
      "j\n",
      "a\n",
      "d\n"
     ]
    }
   ],
   "source": [
    "name = \"Asajad\"\n",
    "for char in name:\n",
    "    print(char)"
   ]
  },
  {
   "cell_type": "code",
   "execution_count": 25,
   "metadata": {},
   "outputs": [
    {
     "name": "stdout",
     "output_type": "stream",
     "text": [
      "'jad' in name = True\n",
      "name in 'Asajad Hussein' = True\n",
      "'efg' not in 'abcdefg' = False\n"
     ]
    }
   ],
   "source": [
    "name = \"Asajad\"\n",
    "\n",
    "print(f\"{'jad' in name = }\")\n",
    "print(f\"{name in 'Asajad Hussein' = }\")\n",
    "print(f\"{'efg' not in 'abcdefg' = }\")\n"
   ]
  },
  {
   "cell_type": "markdown",
   "metadata": {},
   "source": [
    "## Escape characters\n",
    "To insert characters that are illegal in a string, use an escape character.\n",
    "\n",
    "An escape character is a backslash \\ followed by the character you want to insert.\n",
    "\n",
    "An example of an illegal character is a double quote inside a string that is surrounded by double quotes."
   ]
  },
  {
   "cell_type": "markdown",
   "metadata": {},
   "source": [
    "## Common escape characters\n",
    "- \\\\\" Double quote\n",
    "- \\\\' Single quote\n",
    "- \\\\\\ Backslash\n",
    "- \\\\n New line\n",
    "- \\\\t Tab"
   ]
  },
  {
   "cell_type": "code",
   "execution_count": 26,
   "metadata": {},
   "outputs": [
    {
     "name": "stdout",
     "output_type": "stream",
     "text": [
      "Hello\tWorld\n",
      "Here \\ is \"another\" example\n"
     ]
    }
   ],
   "source": [
    "escaped_text = \"Hello\\tWorld\\nHere \\\\ is \\\"another\\\" example\"\n",
    "print(escaped_text)"
   ]
  },
  {
   "cell_type": "markdown",
   "metadata": {},
   "source": [
    "## String methods"
   ]
  },
  {
   "cell_type": "code",
   "execution_count": 72,
   "metadata": {},
   "outputs": [
    {
     "name": "stdout",
     "output_type": "stream",
     "text": [
      "\n",
      "\u001b[1mString methods return a new string:\u001b[0m\n",
      "Asajad\n",
      "ASAJAD\n",
      "\n",
      "\u001b[1mUpper- & Lower Case:\u001b[0m\n",
      "'Hello World'.lower() = 'hello world'\n",
      "'Hello World'.upper() = 'HELLO WORLD'\n",
      "'hello world'.title() = 'Hello World'\n",
      "'hello world'.capitalize() = 'Hello world'\n",
      "\n",
      "\u001b[1mCheck if string starts or ends with substring:\u001b[0m\n",
      "'hello world'.startswith('hello') = True\n",
      "'hello world'.endswith('hello') = False\n",
      "\n",
      "\u001b[1mStrip whitespace from start/end of string:\u001b[0m\n",
      "\"            hello world          \".strip() = 'hello world'\n",
      "\"            hello world          \".lstrip() = 'hello world          '\n",
      "\"            hello world          \".rstrip() = '            hello world'\n",
      "\n",
      "\u001b[1mJoin multiple strings:\u001b[0m\n",
      "\", \".join([\"Fredrik\", \"Johan\", \"Anna\"]) = 'Fredrik, Johan, Anna'\n",
      "\n",
      "\u001b[1mSplit string into multiple (lists of) strings:\u001b[0m\n",
      "\"Fredrik, Johan, Anna\".split(\",\") = ['Fredrik', ' Johan', ' Anna']\n",
      "\"This is another example\".split() = ['This', 'is', 'another', 'example']\n",
      "\"This is another example\".split(\"a\") = ['This is ', 'nother ex', 'mple']\n",
      "\"Apple, Orange, Pear, Melon\".split(\", \") = ['Apple', 'Orange', 'Pear', 'Melon']\n",
      "\n",
      "\u001b[1mReplace part of string:\u001b[0m\n",
      "\"This is another example\".replace(\"another\", \"just an\") = 'This is just an example'\n",
      "\n",
      "\u001b[1mFind index of string:\u001b[0m\n",
      "\"This is another example\".find(\"another\") = 8\n"
     ]
    }
   ],
   "source": [
    "B, b = '\\033[1m', '\\033[0m'\n",
    "print(f\"\\n{B}String methods return a new string:{b}\")\n",
    "name = \"Asajad\"\n",
    "upper_name = name.upper()\n",
    "print(name)\n",
    "print(upper_name)\n",
    "\n",
    "print(f\"\\n{B}Upper- & Lower Case:{b}\")\n",
    "\n",
    "print(f\"{'Hello World'.lower() = }\")\n",
    "print(f\"{'Hello World'.upper() = }\")\n",
    "print(f\"{'hello world'.title() = }\")\n",
    "print(f\"{'hello world'.capitalize() = }\")\n",
    "print(f\"\\n{B}Check if string starts or ends with substring:{b}\")\n",
    "\n",
    "print(f\"{'hello world'.startswith('hello') = }\")\n",
    "print(f\"{'hello world'.endswith('hello') = }\")\n",
    "\n",
    "# Strip is often used when getting input from user\n",
    "print(f\"\\n{B}Strip whitespace from start/end of string:{b}\")\n",
    "print(f'{\"            hello world          \".strip() = }')\n",
    "print(f'{\"            hello world          \".lstrip() = }')\n",
    "print(f'{\"            hello world          \".rstrip() = }')\n",
    "\n",
    "print(f\"\\n{B}Join multiple strings:{b}\")\n",
    "print(f'{\", \".join([\"Fredrik\", \"Johan\", \"Anna\"]) = }')\n",
    "\n",
    "print(f\"\\n{B}Split string into multiple (lists of) strings:{b}\")\n",
    "print(f'{\"Fredrik, Johan, Anna\".split(\",\") = }')\n",
    "print(f'{\"This is another example\".split() = }')\n",
    "print(f'{\"This is another example\".split(\"a\") = }')\n",
    "print(f'{\"Apple, Orange, Pear, Melon\".split(\", \") = }')\n",
    "\n",
    "print(f\"\\n{B}Replace part of string:{b}\")\n",
    "print(f'{\"This is another example\".replace(\"another\", \"just an\") = }')\n",
    "\n",
    "print(f\"\\n{B}Find index of string:{b}\")\n",
    "print(f'{\"This is another example\".find(\"another\") = }')"
   ]
  },
  {
   "cell_type": "code",
   "execution_count": 65,
   "metadata": {},
   "outputs": [],
   "source": [
    "text = input(\"Enter some text: \")\n",
    "words = text.split()\n",
    "for word in words:\n",
    "    print(word)"
   ]
  },
  {
   "cell_type": "code",
   "execution_count": 66,
   "metadata": {},
   "outputs": [
    {
     "name": "stdout",
     "output_type": "stream",
     "text": [
      "Asajad Hussein\n"
     ]
    }
   ],
   "source": [
    "data = \"Asajad Hussein, 22\"\n",
    "\n",
    "index = data.find(\",\")\n",
    "name = data[:index]\n",
    "\n",
    "print(name)"
   ]
  }
 ],
 "metadata": {
  "kernelspec": {
   "display_name": "Python 3",
   "language": "python",
   "name": "python3"
  },
  "language_info": {
   "codemirror_mode": {
    "name": "ipython",
    "version": 3
   },
   "file_extension": ".py",
   "mimetype": "text/x-python",
   "name": "python",
   "nbconvert_exporter": "python",
   "pygments_lexer": "ipython3",
   "version": "3.10.11"
  },
  "orig_nbformat": 4
 },
 "nbformat": 4,
 "nbformat_minor": 2
}
