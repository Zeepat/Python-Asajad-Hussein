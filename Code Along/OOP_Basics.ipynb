{
 "cells": [
  {
   "cell_type": "markdown",
   "metadata": {},
   "source": [
    "# Object Oriented Programming\n",
    "- A \"class\" is a blueprint that can be used to create object\n",
    "- An \"instance\" is the actual object cointaining data and methods"
   ]
  },
  {
   "cell_type": "code",
   "execution_count": 5,
   "metadata": {},
   "outputs": [
    {
     "name": "stdout",
     "output_type": "stream",
     "text": [
      "Asajad Hussein\n",
      "Anna Karlsson\n"
     ]
    }
   ],
   "source": [
    "student_a = {\"FirstName\": \"Asajad\", \"LastName\": \"Hussein\", \"Age\": 22, \"Grade\": 3.4}\n",
    "student_b = {\"FirstName\": \"Anna\", \"LastName\": \"Karlsson\", \"Age\": 24, \"Grade\": 4.2}\n",
    "\n",
    "students = [student_a, student_b]\n",
    "\n",
    "def set_grade(student, grade):\n",
    "    student[\"Grade\"] = grade\n",
    "\n",
    "def get_name(student):\n",
    "    return f'{student[\"FirstName\"]} {student[\"LastName\"]}'\n",
    "\n",
    "for student in students:\n",
    "    set_grade(student, 3.0)\n",
    "    print(get_name(student))\n",
    "\n",
    "pass"
   ]
  },
  {
   "cell_type": "code",
   "execution_count": 24,
   "metadata": {},
   "outputs": [],
   "source": [
    "class Student:\n",
    "    def __init__(self, name, grade):\n",
    "        self.grade = grade\n",
    "        self.name = name\n",
    "\n",
    "    def set_grade(self, grade):\n",
    "        self.grade = grade"
   ]
  },
  {
   "cell_type": "code",
   "execution_count": 15,
   "metadata": {},
   "outputs": [
    {
     "name": "stdout",
     "output_type": "stream",
     "text": [
      "{'grade': 0.0}\n"
     ]
    }
   ],
   "source": [
    "student = Student()\n",
    "print(student.__dict__)"
   ]
  },
  {
   "cell_type": "code",
   "execution_count": 28,
   "metadata": {},
   "outputs": [
    {
     "name": "stdout",
     "output_type": "stream",
     "text": [
      "{'grade': 4.5, 'name': 'Asajad'}\n",
      "{'grade': 3.3, 'name': 'Anna'}\n",
      "\n",
      "{'grade': 4.5, 'name': 'Asajad'}\n",
      "{'grade': 4.5, 'name': 'Anna'}\n"
     ]
    }
   ],
   "source": [
    "student_a = Student(\"Asajad\", 4.5)\n",
    "student_b = Student(\"Anna\", 3.3)\n",
    "\n",
    "student_a.name = \"Asajad\"\n",
    "student_b.name = \"Anna\"\n",
    "print(student_a.__dict__)\n",
    "print(student_b.__dict__)\n",
    "student_a.set_grade(4.5)\n",
    "student_b.set_grade(4.5)\n",
    "print()\n",
    "print(student_a.__dict__)\n",
    "print(student_b.__dict__)\n"
   ]
  },
  {
   "cell_type": "code",
   "execution_count": 29,
   "metadata": {},
   "outputs": [
    {
     "data": {
      "text/plain": [
       "'ASAJAD'"
      ]
     },
     "execution_count": 29,
     "metadata": {},
     "output_type": "execute_result"
    }
   ],
   "source": [
    "name = \"Asajad\"\n",
    "name.upper()"
   ]
  },
  {
   "cell_type": "code",
   "execution_count": 87,
   "metadata": {},
   "outputs": [],
   "source": [
    "class Cat:\n",
    "    def __init__(self, name, age):\n",
    "        self.name = name\n",
    "        self.age = age\n",
    "\n",
    "    def print_best_friend(self):\n",
    "        if not hasattr(self, \"best_friend\"): return\n",
    "        if self.best_friend is None: return\n",
    "\n",
    "        print(f\"I'm {self.name}, and my best friend is {self.best_friend.name}\")\n",
    "    \n",
    "    def greet(self, other_name=\"\"):\n",
    "        if other_name == \"\":\n",
    "            print(f\"Hello, I'm {self.name} and I'm {self.age} years old\")\n",
    "        else:\n",
    "            if self.age > other_name.age:\n",
    "                print(f\"Hi {other_name.name}, my name is {self.name}, and I'm {self.age - other_name.age} years older than you.\")\n",
    "            elif self.age < other_name.age:\n",
    "                print(f\"Hi {other_name.name}, my name is {self.name}, and I'm {other_name.age - self.age} years younger than you.\")\n",
    "            else:\n",
    "                print(f\"Hi {other_name.name}, my name is {self.name}, and we are the same age!\")"
   ]
  },
  {
   "cell_type": "code",
   "execution_count": 88,
   "metadata": {},
   "outputs": [
    {
     "name": "stdout",
     "output_type": "stream",
     "text": [
      "I'm Misse, and my best friend is Mjau\n",
      "I'm Kisse, and my best friend is Kisse\n",
      "I'm Mjau, and my best friend is Misse\n",
      "Hello, I'm Misse and I'm 3 years old\n",
      "Hello, I'm Kisse and I'm 2 years old\n",
      "Hi Kisse, my name is Misse, and I'm 1 years older than you.\n",
      "Hi Mjau, my name is Misse, and I'm 2 years younger than you.\n",
      "Hi Momo, my name is Misse, and we are the same age!\n"
     ]
    }
   ],
   "source": [
    "my_cat = Cat(\"Misse\", 3)\n",
    "my_other_cat = Cat(\"Kisse\", 2)\n",
    "my_third_cat = Cat(\"Mjau\", 5)\n",
    "my_fourth_cat = Cat(\"Momo\", 3)\n",
    "\n",
    "my_cat.best_friend = my_third_cat\n",
    "my_other_cat.best_friend = my_other_cat\n",
    "my_third_cat.best_friend = my_cat\n",
    "my_fourth_cat.best_friend = None\n",
    "\n",
    "cats = [my_cat, my_other_cat, my_third_cat, my_fourth_cat]\n",
    "\n",
    "for cat in cats:\n",
    "    cat.print_best_friend()\n",
    "\n",
    "# My name is Misse and my best friend is Mjau\n",
    "\n",
    "my_cat.greet()\n",
    "my_other_cat.greet()\n",
    "\n",
    "my_cat.greet(my_other_cat)\n",
    "my_cat.greet(my_third_cat)\n",
    "my_cat.greet(my_fourth_cat)"
   ]
  }
 ],
 "metadata": {
  "kernelspec": {
   "display_name": "Python-Programming-Asajad-Hussein-wqUMovOj",
   "language": "python",
   "name": "python3"
  },
  "language_info": {
   "codemirror_mode": {
    "name": "ipython",
    "version": 3
   },
   "file_extension": ".py",
   "mimetype": "text/x-python",
   "name": "python",
   "nbconvert_exporter": "python",
   "pygments_lexer": "ipython3",
   "version": "3.11.5"
  },
  "orig_nbformat": 4
 },
 "nbformat": 4,
 "nbformat_minor": 2
}
