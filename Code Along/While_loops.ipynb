{
 "cells": [
  {
   "attachments": {},
   "cell_type": "markdown",
   "metadata": {},
   "source": [
    "# Loops\n",
    "Python has two primitive loop commands:\n",
    "- while loops\n",
    "- for loops"
   ]
  },
  {
   "attachments": {},
   "cell_type": "markdown",
   "metadata": {},
   "source": [
    "# The while loop\n",
    "Executes a set of statements as long as a condition is true."
   ]
  },
  {
   "cell_type": "code",
   "execution_count": 9,
   "metadata": {},
   "outputs": [
    {
     "name": "stdout",
     "output_type": "stream",
     "text": [
      "10: Hello World\n",
      " 8: Hello World\n",
      " 6: Hello World\n",
      " 4: Hello World\n",
      " 2: Hello World\n",
      "End.\n"
     ]
    }
   ],
   "source": [
    "counter = 10\n",
    "while counter > 0:\n",
    "    print(f\"{counter:2d}: Hello World\")\n",
    "    counter -= 2 \n",
    "\n",
    "print(\"End.\")"
   ]
  },
  {
   "attachments": {},
   "cell_type": "markdown",
   "metadata": {},
   "source": [
    "# The break statement\n",
    "Used to stop the loop immedietly"
   ]
  },
  {
   "cell_type": "code",
   "execution_count": 12,
   "metadata": {},
   "outputs": [
    {
     "name": "stdout",
     "output_type": "stream",
     "text": [
      "10: Hello World\n",
      " 9: Hello World\n",
      " 8: Hello World\n",
      " 7: Hello World\n",
      " 6: Hello World\n",
      " 5: Hello World\n",
      " 4: Hello World\n",
      " 3: Hello World\n",
      " 2: Hello World\n",
      " 1: Hello World\n",
      "End.\n"
     ]
    }
   ],
   "source": [
    "counter = 10\n",
    "while True:\n",
    "    print(f\"{counter:2d}: Hello World\")\n",
    "    counter -= 1\n",
    "    if counter <= 0:\n",
    "        break\n",
    "print(\"End.\")"
   ]
  },
  {
   "attachments": {},
   "cell_type": "markdown",
   "metadata": {},
   "source": [
    "# The continue statement\n",
    "Used to stop the current iteration of the loop, and continue with the next."
   ]
  },
  {
   "cell_type": "code",
   "execution_count": 17,
   "metadata": {},
   "outputs": [
    {
     "name": "stdout",
     "output_type": "stream",
     "text": [
      "1:Print this!\n",
      "2:Print this!\n",
      "3:Print this!\n",
      "Dont print this!\n",
      "4:Print this!\n",
      "Dont print this!\n",
      "5:Print this!\n",
      "Dont print this!\n",
      "End.\n"
     ]
    }
   ],
   "source": [
    "counter = 0\n",
    "while counter < 5:\n",
    "    counter += 1\n",
    "    print(f\"{counter}:Print this!\")\n",
    "    if (counter < 3): continue\n",
    "    print(\"Dont print this!\")\n",
    "    \n",
    "print(\"End.\")"
   ]
  },
  {
   "attachments": {},
   "cell_type": "markdown",
   "metadata": {},
   "source": [
    "## The else statement\n",
    "Used to specify a block of code to be executed when the loop is finished\n",
    "\n",
    "**Note:** *The else block will NOT be executed if the loop is stopped at a break statement.*"
   ]
  },
  {
   "cell_type": "code",
   "execution_count": 20,
   "metadata": {},
   "outputs": [
    {
     "name": "stdout",
     "output_type": "stream",
     "text": [
      "10: Hello World\n",
      " 9: Hello World\n",
      " 8: Hello World\n",
      " 7: Hello World\n",
      " 6: Hello World\n",
      " 5: Hello World\n",
      " 4: Hello World\n",
      " 3: Hello World\n",
      " 2: Hello World\n",
      " 1: Hello World\n",
      "End.\n"
     ]
    }
   ],
   "source": [
    "counter = 10\n",
    "while counter > 0:\n",
    "    print(f\"{counter:2d}: Hello World\")\n",
    "    counter -= 1\n",
    "else:\n",
    "    print(\"End.\")"
   ]
  }
 ],
 "metadata": {
  "kernelspec": {
   "display_name": "Python 3",
   "language": "python",
   "name": "python3"
  },
  "language_info": {
   "codemirror_mode": {
    "name": "ipython",
    "version": 3
   },
   "file_extension": ".py",
   "mimetype": "text/x-python",
   "name": "python",
   "nbconvert_exporter": "python",
   "pygments_lexer": "ipython3",
   "version": "3.10.11"
  },
  "orig_nbformat": 4
 },
 "nbformat": 4,
 "nbformat_minor": 2
}
