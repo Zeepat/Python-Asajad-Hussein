{
 "cells": [
  {
   "cell_type": "markdown",
   "metadata": {},
   "source": [
    "# Properties (sing. Property, sv. Egenskap)\n",
    "A property is a python construction (or OOP concept) that works similar to an attribute with the \n",
    "difference that an attribute stores (and reads) the value directly to memory, while a property uses\n",
    "getter and setter methods to change the values of the property.\n",
    "\n",
    "From the \"outside\" (of the claass definition) when a property of an object is set, the objects internal\n",
    "setter method will be called to handle the operation. This method is marked in the class definition by \n",
    "a decorator called {name}.setter (where \"name\" is the name of the property)\n",
    "\n",
    "When the property is read (from the \"outside\"), the object's internal getter method will be called to \n",
    "return a value. The getter method is marked in the class definition by a decorator called @property."
   ]
  },
  {
   "cell_type": "code",
   "execution_count": 27,
   "metadata": {},
   "outputs": [],
   "source": [
    "class Employee:\n",
    "    def __init__(self, name, salary):\n",
    "        self.name = name\n",
    "        self.salary = 0 if salary < 0 else salary\n",
    "    \n",
    "    # Getter method\n",
    "    @property\n",
    "    def salary(self):\n",
    "        return self._salary\n",
    "\n",
    "    # Setter method\n",
    "    @salary.setter\n",
    "    def salary(self, salary):\n",
    "        self._salary = 0 if salary < 0 else salary"
   ]
  },
  {
   "cell_type": "code",
   "execution_count": 30,
   "metadata": {},
   "outputs": [
    {
     "name": "stdout",
     "output_type": "stream",
     "text": [
      "0\n"
     ]
    }
   ],
   "source": [
    "PI = 3.1415\n",
    "\n",
    "employee = Employee(\"Asajad\", 40000)\n",
    "employee2 = Employee(\"Bertil\", -40000)\n",
    "\n",
    "employee.salary = -5000\n",
    "print(employee.salary)\n",
    "\n",
    "# employee.set_salary = 50000\n",
    "# employee2.set_salary(-40000)\n",
    "\n",
    "# print(employee.get_salary())\n",
    "# print(employee2.get_salary())"
   ]
  },
  {
   "cell_type": "code",
   "execution_count": 11,
   "metadata": {},
   "outputs": [
    {
     "name": "stdout",
     "output_type": "stream",
     "text": [
      "Asajad\n",
      "Hello World\n",
      "Kalle Hello World 22\n"
     ]
    }
   ],
   "source": [
    "class Person:\n",
    "    def __init__(self, firstname, lastname, age):\n",
    "        self.firstname = firstname\n",
    "        self.lastname = lastname\n",
    "        self.age = age\n",
    "\n",
    "    @property\n",
    "    def lastname(self):\n",
    "        return \"Hello World\"\n",
    "    \n",
    "    @property\n",
    "    def age(self):\n",
    "        return self._age\n",
    "\n",
    "    @lastname.setter\n",
    "    def lastname(self, name):\n",
    "        self._lastname = name\n",
    "\n",
    "    @age.setter\n",
    "    def age(self, age):\n",
    "        if type(age) != int:\n",
    "            self._age = 0\n",
    "        elif age < 0:\n",
    "            self._age = 0\n",
    "        elif age > 100:\n",
    "            self._age = 100\n",
    "        else:\n",
    "            self._age = age\n",
    "\n",
    "person = Person(\"Asajad\", \"Hussein\", 22)\n",
    "\n",
    "age = person.age\n",
    "person.age = 22\n",
    "\n",
    "name = person.firstname\n",
    "print(name)\n",
    "person.firstname = \"Kalle\"\n",
    "\n",
    "name = person.lastname\n",
    "print(name)\n",
    "person.lastname = \"Karlsson\"\n",
    "\n",
    "print(person.firstname, person.lastname, person.age)"
   ]
  }
 ],
 "metadata": {
  "kernelspec": {
   "display_name": "Python-Programming-Asajad-Hussein-wqUMovOj",
   "language": "python",
   "name": "python3"
  },
  "language_info": {
   "codemirror_mode": {
    "name": "ipython",
    "version": 3
   },
   "file_extension": ".py",
   "mimetype": "text/x-python",
   "name": "python",
   "nbconvert_exporter": "python",
   "pygments_lexer": "ipython3",
   "version": "3.11.5"
  },
  "orig_nbformat": 4
 },
 "nbformat": 4,
 "nbformat_minor": 2
}
