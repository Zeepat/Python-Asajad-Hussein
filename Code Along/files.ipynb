{
 "cells": [
  {
   "attachments": {},
   "cell_type": "markdown",
   "metadata": {},
   "source": [
    "# Load and save data to files\n",
    "\n",
    "We can categories files into 2 main categories: text files and binary files.\n",
    "- Text files store text/characters in a human readable format.\n",
    "- Binary files store byte data(1's and 0's) that only computers understand.\n",
    "\n",
    "## Common text based files to store data\n",
    "\n",
    "- .txt\n",
    "- .csv\n",
    "- .json\n",
    "\n",
    "## File names and file paths\n",
    "\n",
    "A file name usually has two parts, the name, and the file extension, seperated with a dot (name.extension)\n",
    "\n",
    "e.g. hello.txt data.json myimage.jpg\n",
    "\n",
    "Paths can be expressed as either relative or absolute:\n",
    "- **Absolute:** Full path to access a file or folder. Ex c:\\users\\asajad\\desktop\\myfile.txt (The backwards slash is a forward slash for macOS).\n",
    "- **Relative:** Relative from the current active folder: data\\data.json\n",
    "\n",
    "# File modes\n",
    "It's possible to open a file in python in different modes:\n",
    "- **'r':** for reading\n",
    "- **'w':** for writing (overwrites everything in file)\n",
    "- **'a':** for appending (also writing, but adds text to the existing file.)"
   ]
  },
  {
   "attachments": {},
   "cell_type": "markdown",
   "metadata": {},
   "source": [
    "## Open file for reading"
   ]
  },
  {
   "cell_type": "code",
   "execution_count": 24,
   "metadata": {},
   "outputs": [
    {
     "name": "stdout",
     "output_type": "stream",
     "text": [
      "This is my textHello World!\\nHello World!hello\n",
      "s\n",
      "hello\n",
      "hello\n",
      "\n"
     ]
    }
   ],
   "source": [
    "file = open(\"../data/hello.txt\", \"r\")\n",
    "\n",
    "content = file.read()\n",
    "\n",
    "print(content)\n",
    "\n",
    "file.close()\n"
   ]
  },
  {
   "attachments": {},
   "cell_type": "markdown",
   "metadata": {},
   "source": [
    "## Open file for writing"
   ]
  },
  {
   "cell_type": "code",
   "execution_count": 26,
   "metadata": {},
   "outputs": [],
   "source": [
    "file = open(\"../data/hello.txt\", \"a\")\n",
    "\n",
    "new_content = input(\"Enter text: \")\n",
    "\n",
    "file.write(new_content + '\\n')\n",
    "file.close()"
   ]
  },
  {
   "attachments": {},
   "cell_type": "markdown",
   "metadata": {},
   "source": [
    "# Open with context management"
   ]
  },
  {
   "cell_type": "code",
   "execution_count": 27,
   "metadata": {},
   "outputs": [
    {
     "name": "stdout",
     "output_type": "stream",
     "text": [
      "This is my textHello World!\\nHello World!hello\n",
      "s\n",
      "hello\n",
      "hello\n",
      "hello\n",
      "\n",
      "\n"
     ]
    }
   ],
   "source": [
    "with open(\"../data/hello.txt\") as file: \n",
    "    content = file.read()\n",
    "    print(content)"
   ]
  },
  {
   "attachments": {},
   "cell_type": "markdown",
   "metadata": {},
   "source": [
    "## Mini-uppgift 1\n",
    "Skapa ett program som har en tom lista. När programmet körs får användaren mata in namn (input) i en loop tills användaren matar in en tom rad. När den är klar så skrivs alla namn ut på skärmen, samt sparas listan till en fil (med ett namn på varje rad). Nästa gång man startar programmet så läser den in de befintliga namnen. "
   ]
  },
  {
   "cell_type": "code",
   "execution_count": 6,
   "metadata": {},
   "outputs": [
    {
     "name": "stdout",
     "output_type": "stream",
     "text": [
      "['fredrik', 'erik', 'anders']\n",
      "Names are saved!\n"
     ]
    }
   ],
   "source": [
    "with open(\"../data/namelist.txt\", \"r\") as file:\n",
    "    names = file.readlines()\n",
    "\n",
    "names = []\n",
    "\n",
    "while True:\n",
    "    name = input(\"Enter name: \")\n",
    "    if not name: break\n",
    "    names.append(name)\n",
    "\n",
    "print(names)\n",
    "\n",
    "#for name in names:\n",
    "#    print(name)\n",
    "\n",
    "with open(\"../data/namelist.txt\", \"w\") as file:\n",
    "    file.writelines(name)\n",
    "print(\"Names are saved!\")"
   ]
  },
  {
   "cell_type": "code",
   "execution_count": 17,
   "metadata": {},
   "outputs": [
    {
     "name": "stdout",
     "output_type": "stream",
     "text": [
      "asajad\n",
      "hussein\n",
      "\n",
      "\n",
      "asajad\n",
      "hussein\n",
      "\n",
      "\n",
      "\n"
     ]
    }
   ],
   "source": [
    "user_name_input = \"s\"\n",
    "\n",
    "try:\n",
    "    file = open(\"../data/files_miniuppgift_1.txt\", \"x\")\n",
    "    file.close()\n",
    "\n",
    "    with open(\"../data/files_miniuppgift_1.txt\", \"a\") as file:\n",
    "        while user_name_input != \"\":\n",
    "            user_name_input = input(\"Enter a name: \")\n",
    "            file.write(user_name_input + '\\n')\n",
    "\n",
    "    with open(\"../data/files_miniuppgift_1.txt\", \"r\") as file:\n",
    "        file_content = file.read()\n",
    "        print(file_content)\n",
    "\n",
    "except FileExistsError:\n",
    "    with open(\"../data/files_miniuppgift_1.txt\", \"r\") as file:\n",
    "        file_content = file.read()\n",
    "        print(file_content)\n",
    "\n",
    "    with open(\"../data/files_miniuppgift_1.txt\", \"a\") as file:\n",
    "        while user_name_input != \"\":\n",
    "            user_name_input = input(\"Enter a name: \")\n",
    "            file.write(user_name_input + '\\n')\n",
    "    with open(\"../data/files_miniuppgift_1.txt\", \"r\") as file:\n",
    "        file_content = file.read()\n",
    "        print(file_content)\n"
   ]
  },
  {
   "attachments": {},
   "cell_type": "markdown",
   "metadata": {},
   "source": [
    "# Write .csv file"
   ]
  },
  {
   "cell_type": "code",
   "execution_count": 2,
   "metadata": {},
   "outputs": [
    {
     "name": "stdout",
     "output_type": "stream",
     "text": [
      "[{'name': 'adam', 'class': 'AI23', 'email': 'adam@gmail.com'}, {'name': 'kalle', 'class': 'AI23', 'email': 'kalle@gmail.com'}, {'name': 'eva', 'class': 'AI23', 'email': 'eva@gmail.com'}]\n"
     ]
    }
   ],
   "source": [
    "students = [\n",
    "    {\n",
    "        \"name\": \"adam\",\n",
    "        \"class\" : \"AI23\",\n",
    "        \"email\": \"adam@gmail.com\"\n",
    "    },   \n",
    "    {\n",
    "        \"name\": \"kalle\", \n",
    "        \"class\" : \"AI23\", \n",
    "        \"email\": \"kalle@gmail.com\"}, \n",
    "    {\n",
    "        \"name\": \"eva\", \n",
    "        \"class\" : \"AI23\", \n",
    "        \"email\": \"eva@gmail.com\"\n",
    "    }  \n",
    "]\n",
    "\n",
    "print(students)\n",
    "\n",
    "with open(\"../data/students.csv\", \"w\") as file:\n",
    "    for student in students:\n",
    "        file.write(f\"{student['name']}, {student['class']}, {student['email']}\\n\")"
   ]
  },
  {
   "cell_type": "code",
   "execution_count": 10,
   "metadata": {},
   "outputs": [
    {
     "name": "stdout",
     "output_type": "stream",
     "text": [
      "[{'name': 'adam', 'class': ' AI23', 'email': ' adam@gmail.com'}, {'name': 'kalle', 'class': ' AI23', 'email': ' kalle@gmail.com'}, {'name': 'eva', 'class': ' AI23', 'email': ' eva@gmail.com'}]\n"
     ]
    }
   ],
   "source": [
    "import csv\n",
    "\n",
    "students = []\n",
    "\n",
    "with open(\"../data/students.csv\") as file:\n",
    "    reader = csv.DictReader(file)\n",
    "\n",
    "    for row in reader:\n",
    "        students.append({\"name\": row[\"name\"], \"class\": row[\"class\"], \"email\": row[\"email\"]})\n",
    "\n",
    "print(students)"
   ]
  }
 ],
 "metadata": {
  "kernelspec": {
   "display_name": "Python 3",
   "language": "python",
   "name": "python3"
  },
  "language_info": {
   "codemirror_mode": {
    "name": "ipython",
    "version": 3
   },
   "file_extension": ".py",
   "mimetype": "text/x-python",
   "name": "python",
   "nbconvert_exporter": "python",
   "pygments_lexer": "ipython3",
   "version": "3.11.2"
  },
  "orig_nbformat": 4,
  "vscode": {
   "interpreter": {
    "hash": "39b952706d9a56a0f6b1ae3a62b1b7641d49bf7de4c5a927b030017810e43a37"
   }
  }
 },
 "nbformat": 4,
 "nbformat_minor": 2
}
