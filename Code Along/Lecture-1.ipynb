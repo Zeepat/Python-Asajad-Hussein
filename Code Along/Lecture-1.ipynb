{
 "cells": [
  {
   "cell_type": "code",
   "execution_count": 8,
   "metadata": {},
   "outputs": [
    {
     "name": "stdout",
     "output_type": "stream",
     "text": [
      "Asajad\n",
      "8\n",
      "3.14\n",
      "True\n"
     ]
    }
   ],
   "source": [
    "myString = \"Asajad\"\n",
    "print(myString)\n",
    "\n",
    "myInt = 8\n",
    "print(myInt)\n",
    "\n",
    "myFloat = 3.14\n",
    "print(myFloat)\n",
    "\n",
    "myBool = True\n",
    "print(myBool)"
   ]
  },
  {
   "attachments": {},
   "cell_type": "markdown",
   "metadata": {},
   "source": [
    "# Literal Values\n",
    "- \"Hello\" : **String**. Can use single or double quotes\n",
    "- 5 : **Integer**\n",
    "- 4.5 : **Float**\n",
    "- True : **Bool**. Can be True or False"
   ]
  },
  {
   "attachments": {},
   "cell_type": "markdown",
   "metadata": {},
   "source": [
    "# Variables\n",
    " - Case sensitive\n",
    " - Created when first assigned, doesn't need to be declared.\n",
    " - Dynamic typing, type is referred from assignment, can be re-type.\n",
    " - Cast type with: str(), int(), bool()\n",
    " - Get type with type()\n",
    " - Use del() to delete variables"
   ]
  },
  {
   "cell_type": "code",
   "execution_count": 14,
   "metadata": {},
   "outputs": [
    {
     "name": "stdout",
     "output_type": "stream",
     "text": [
      "58\n",
      "<class 'str'>\n",
      "<class 'int'>\n"
     ]
    },
    {
     "ename": "NameError",
     "evalue": "name 'myNumber2' is not defined",
     "output_type": "error",
     "traceback": [
      "\u001b[0;31m---------------------------------------------------------------------------\u001b[0m",
      "\u001b[0;31mNameError\u001b[0m                                 Traceback (most recent call last)",
      "Cell \u001b[0;32mIn[14], line 9\u001b[0m\n\u001b[1;32m      6\u001b[0m \u001b[39mprint\u001b[39m(\u001b[39mtype\u001b[39m(myNumber2))\n\u001b[1;32m      8\u001b[0m \u001b[39mdel\u001b[39;00m(myNumber2)\n\u001b[0;32m----> 9\u001b[0m \u001b[39mprint\u001b[39m(myNumber2)\n",
      "\u001b[0;31mNameError\u001b[0m: name 'myNumber2' is not defined"
     ]
    }
   ],
   "source": [
    "myNumber = \"56\"\n",
    "myNumber2 = int(myNumber)\n",
    "print(myNumber2 + 2)\n",
    "\n",
    "print(type(myNumber))\n",
    "print(type(myNumber2))\n",
    "\n",
    "del(myNumber2)\n",
    "print(myNumber2)"
   ]
  },
  {
   "attachments": {},
   "cell_type": "markdown",
   "metadata": {},
   "source": [
    "# Arithmetic operators\n",
    "- Addition +\n",
    "- Subtraction -\n",
    "- Multiplication *\n",
    "- Division /\n",
    "- Floor division //\n",
    "- Modulus %\n",
    "- Exponentiation **"
   ]
  },
  {
   "cell_type": "code",
   "execution_count": 16,
   "metadata": {},
   "outputs": [
    {
     "name": "stdout",
     "output_type": "stream",
     "text": [
      "4.5\n",
      "4\n",
      "1\n",
      "9\n"
     ]
    }
   ],
   "source": [
    "print(9 / 2)\n",
    "print(9 // 2)\n",
    "print(9 % 2)\n",
    "print(3**2)"
   ]
  },
  {
   "attachments": {},
   "cell_type": "markdown",
   "metadata": {},
   "source": [
    "# Comparison operator\n",
    "- Equal ==\n",
    "- Not equal !=\n",
    "- Less than <\n",
    "- Greater than >\n",
    "- Less than or equal to <=\n",
    "- Greater than or equal to >="
   ]
  },
  {
   "cell_type": "code",
   "execution_count": 17,
   "metadata": {},
   "outputs": [
    {
     "name": "stdout",
     "output_type": "stream",
     "text": [
      "True\n",
      "True\n",
      "False\n"
     ]
    }
   ],
   "source": [
    "x = 5\n",
    "print(x != 6)\n",
    "print(x <= 5)\n",
    "print(x < 5)"
   ]
  },
  {
   "attachments": {},
   "cell_type": "markdown",
   "metadata": {},
   "source": [
    "# Logical operators\n",
    "- and (true if both are true)\n",
    "- or (true if either or both are true)\n",
    "- not (true if false, false if true)"
   ]
  },
  {
   "cell_type": "code",
   "execution_count": 22,
   "metadata": {},
   "outputs": [
    {
     "name": "stdout",
     "output_type": "stream",
     "text": [
      "False\n",
      "True\n",
      "True\n",
      "False\n",
      "False\n",
      "True\n",
      "True\n"
     ]
    }
   ],
   "source": [
    "print(True and False)\n",
    "print(True or False)\n",
    "print(not False)\n",
    "\n",
    "print(5 == 5 and 7 == 8)\n",
    "print(\"Fredrik\" < \"Anders\")\n",
    "\n",
    "x = 15\n",
    "print(x > 10 and x < 20)\n",
    "print(10 < x < 20)"
   ]
  },
  {
   "attachments": {},
   "cell_type": "markdown",
   "metadata": {},
   "source": [
    "# "
   ]
  }
 ],
 "metadata": {
  "kernelspec": {
   "display_name": "my-python3-env",
   "language": "python",
   "name": "python3"
  },
  "language_info": {
   "codemirror_mode": {
    "name": "ipython",
    "version": 3
   },
   "file_extension": ".py",
   "mimetype": "text/x-python",
   "name": "python",
   "nbconvert_exporter": "python",
   "pygments_lexer": "ipython3",
   "version": "3.11.5"
  },
  "orig_nbformat": 4,
  "vscode": {
   "interpreter": {
    "hash": "7b1e53a6f3099a9f42d75f7df4cafbf263e38aa70de293d1027110fc86fae782"
   }
  }
 },
 "nbformat": 4,
 "nbformat_minor": 2
}
