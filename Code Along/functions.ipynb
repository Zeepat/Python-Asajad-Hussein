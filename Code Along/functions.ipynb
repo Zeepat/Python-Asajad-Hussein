{
 "cells": [
  {
   "cell_type": "markdown",
   "metadata": {},
   "source": [
    "# Abstraction levels\n",
    "In computing, an abstraction layer or abstraction level is a way of hiding the working details of a subsystem. When working on a low level of abstraction we're dealing with the fine details of the code, while if we work on a high level of abstraction the details are hidden from us, so we get more of an overview of the system."
   ]
  },
  {
   "cell_type": "markdown",
   "metadata": {},
   "source": [
    "# Functions\n",
    "- A functions is a block of code which only runs when it is called.\n",
    "- In python a function is defined using the **def** keyword.\n",
    "- Definition must come before call.\n",
    "- To call a function, use the function name followed by parenthesis.\n",
    "- You can pass data, known as arguments into a function.\n",
    "- The number of arguments when calling must normally match number of parameters of definition.\n",
    "- A function may return data as a result."
   ]
  },
  {
   "cell_type": "code",
   "execution_count": 12,
   "metadata": {},
   "outputs": [
    {
     "name": "stdout",
     "output_type": "stream",
     "text": [
      "Hello Asajad!\n",
      "Hello Fredrik!\n",
      "Hello Anders!\n",
      "\n",
      "Hello Apple!\n",
      "Hello Orange!\n",
      "Hello Melon!\n",
      "Hello Kiwi!\n",
      "\n",
      "Hello Anna!\n"
     ]
    }
   ],
   "source": [
    "def greet(name):\n",
    "    print(f\"Hello {name}!\")\n",
    "\n",
    "def greet_people(people):\n",
    "    for person in people:\n",
    "        greet(person)\n",
    "\n",
    "users = [\"Asajad\" , \"Fredrik\", \"Anders\"]\n",
    "greet_people(users)\n",
    "\n",
    "print()\n",
    "fruits = [\"Apple\", \"Orange\", \"Melon\", \"Kiwi\"]\n",
    "greet_people(fruits)\n",
    "\n",
    "print()\n",
    "greet(\"Anna\")"
   ]
  },
  {
   "cell_type": "markdown",
   "metadata": {},
   "source": [
    "## Example of function returning a value"
   ]
  },
  {
   "cell_type": "code",
   "execution_count": 17,
   "metadata": {},
   "outputs": [
    {
     "name": "stdout",
     "output_type": "stream",
     "text": [
      "Asajad\n",
      "Hello Fredrik!\n",
      "Hello Anders!\n"
     ]
    }
   ],
   "source": [
    "def get_greeting(name):\n",
    "    greeting = \"Hello \" + name + \"!\"\n",
    "\n",
    "    if name == \"Asajad\":\n",
    "        return name\n",
    "    else: \n",
    "        return greeting\n",
    "\n",
    "print(get_greeting(\"Asajad\"))\n",
    "print(get_greeting(\"Fredrik\"))\n",
    "\n",
    "my_greeting = get_greeting(\"Anders\")\n",
    "print(my_greeting)"
   ]
  },
  {
   "cell_type": "markdown",
   "metadata": {},
   "source": [
    "# Default values"
   ]
  },
  {
   "cell_type": "code",
   "execution_count": 21,
   "metadata": {},
   "outputs": [
    {
     "name": "stdout",
     "output_type": "stream",
     "text": [
      "Hello Asajad!\n",
      "Hello Asajad!\n",
      "Hello Asajad!\n",
      "Hello Asajad!\n",
      "Hello Asajad!\n",
      "\n",
      "Hello Kalle!\n"
     ]
    }
   ],
   "source": [
    "def greet(name, number_of_times = 1):\n",
    "    for i in range(number_of_times):\n",
    "        print(\"Hello \" + name + \"!\")\n",
    "\n",
    "greet(\"Asajad\", 5)\n",
    "print()\n",
    "greet(\"Kalle\")"
   ]
  }
 ],
 "metadata": {
  "kernelspec": {
   "display_name": "Python 3",
   "language": "python",
   "name": "python3"
  },
  "language_info": {
   "codemirror_mode": {
    "name": "ipython",
    "version": 3
   },
   "file_extension": ".py",
   "mimetype": "text/x-python",
   "name": "python",
   "nbconvert_exporter": "python",
   "pygments_lexer": "ipython3",
   "version": "3.10.11"
  },
  "orig_nbformat": 4
 },
 "nbformat": 4,
 "nbformat_minor": 2
}
