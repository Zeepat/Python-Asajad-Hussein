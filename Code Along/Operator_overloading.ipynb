{
 "cells": [
  {
   "cell_type": "markdown",
   "metadata": {},
   "source": [
    "# Operator overloading"
   ]
  },
  {
   "cell_type": "code",
   "execution_count": 5,
   "metadata": {},
   "outputs": [
    {
     "ename": "TypeError",
     "evalue": "unsupported operand type(s) for +: 'Cat' and 'Cat'",
     "output_type": "error",
     "traceback": [
      "\u001b[0;31m---------------------------------------------------------------------------\u001b[0m",
      "\u001b[0;31mTypeError\u001b[0m                                 Traceback (most recent call last)",
      "\u001b[1;32m/Users/asajad/Desktop/GithubForSchool/Python-Programming-Asajad-Hussein/Code Along/Operator_overloading.ipynb Cell 2\u001b[0m line \u001b[0;36m1\n\u001b[1;32m      <a href='vscode-notebook-cell:/Users/asajad/Desktop/GithubForSchool/Python-Programming-Asajad-Hussein/Code%20Along/Operator_overloading.ipynb#W0sZmlsZQ%3D%3D?line=6'>7</a>\u001b[0m cat_a \u001b[39m=\u001b[39m Cat(\u001b[39m\"\u001b[39m\u001b[39mPelle\u001b[39m\u001b[39m\"\u001b[39m, \u001b[39m8\u001b[39m)\n\u001b[1;32m      <a href='vscode-notebook-cell:/Users/asajad/Desktop/GithubForSchool/Python-Programming-Asajad-Hussein/Code%20Along/Operator_overloading.ipynb#W0sZmlsZQ%3D%3D?line=7'>8</a>\u001b[0m cat_b \u001b[39m=\u001b[39m Cat(\u001b[39m\"\u001b[39m\u001b[39mMåns\u001b[39m\u001b[39m\"\u001b[39m, \u001b[39m9\u001b[39m)\n\u001b[0;32m---> <a href='vscode-notebook-cell:/Users/asajad/Desktop/GithubForSchool/Python-Programming-Asajad-Hussein/Code%20Along/Operator_overloading.ipynb#W0sZmlsZQ%3D%3D?line=9'>10</a>\u001b[0m cat_a \u001b[39m+\u001b[39;49m cat_b\n",
      "\u001b[0;31mTypeError\u001b[0m: unsupported operand type(s) for +: 'Cat' and 'Cat'"
     ]
    }
   ],
   "source": [
    "class Cat:\n",
    "    def __init__(self, name, age):\n",
    "        self.name = name\n",
    "        self.age = age\n",
    "\n",
    "    def __add__(self, other):\n",
    "        return \n",
    "\n",
    "\n",
    "cat_a = Cat(\"Pelle\", 8)\n",
    "cat_b = Cat(\"Måns\", 9)\n",
    "\n",
    "cat_a + cat_b"
   ]
  },
  {
   "cell_type": "code",
   "execution_count": 3,
   "metadata": {},
   "outputs": [
    {
     "data": {
      "text/plain": [
       "8"
      ]
     },
     "execution_count": 3,
     "metadata": {},
     "output_type": "execute_result"
    }
   ],
   "source": [
    "5 + 3"
   ]
  },
  {
   "cell_type": "code",
   "execution_count": 1,
   "metadata": {},
   "outputs": [
    {
     "data": {
      "text/plain": [
       "['Kiwi', 'Orange', 'Melon', 'Apple', 'Pear']"
      ]
     },
     "execution_count": 1,
     "metadata": {},
     "output_type": "execute_result"
    }
   ],
   "source": [
    "[\"Kiwi\", \"Orange\", \"Melon\"] + [\"Apple\", \"Pear\"]"
   ]
  }
 ],
 "metadata": {
  "kernelspec": {
   "display_name": "Python-Programming-Asajad-Hussein-wqUMovOj",
   "language": "python",
   "name": "python3"
  },
  "language_info": {
   "codemirror_mode": {
    "name": "ipython",
    "version": 3
   },
   "file_extension": ".py",
   "mimetype": "text/x-python",
   "name": "python",
   "nbconvert_exporter": "python",
   "pygments_lexer": "ipython3",
   "version": "3.11.5"
  },
  "orig_nbformat": 4
 },
 "nbformat": 4,
 "nbformat_minor": 2
}
