{
 "cells": [
  {
   "attachments": {},
   "cell_type": "markdown",
   "metadata": {},
   "source": [
    "# List\n",
    "- Lists are used to store multiple items in a single variable.\n",
    "\n",
    "- Lists are one of 4 built-in data types in Python used to store collections of data, the other 3 are Tuple, Set, and Dictionary, all with different qualities and usage.\n",
    "\n",
    "- Lists are created using square brackets: []\n",
    "\n",
    "- List items are ordered, changeable (mutable) and allow duplicate values\n"
   ]
  },
  {
   "cell_type": "code",
   "execution_count": 54,
   "metadata": {},
   "outputs": [
    {
     "name": "stdout",
     "output_type": "stream",
     "text": [
      "fruits = ['apple', 'banana', 'cherry', 'orange', 'apple', 'melon', 'kiwi']\n",
      "len(fruits) = 7\n",
      "fruits.count('apple') = 2\n",
      "fruits = ['apple', 'banana', 'cherry', 'orange', 'apple', 'melon', 'kiwi', 'pear', 'coconut', 'pinepple', [3, 4, 5], True, 4.5]\n"
     ]
    }
   ],
   "source": [
    "fruits = [\"apple\", \"banana\", \"cherry\", \"orange\", \"apple\"]\n",
    "more_fruits = [\"pear\", \"coconut\", \"pinepple\", [3, 4, 5], bool(True), 4.5]\n",
    "\n",
    "fruits.append('melon')\n",
    "fruits.append('kiwi')\n",
    "\n",
    "print(f\"{fruits = }\")\n",
    "print(f\"{len(fruits) = }\")\n",
    "print(f\"{fruits.count('apple') = }\")\n",
    "\n",
    "fruits += more_fruits # alt. fruits.extend(more_fruits)\n",
    "print(f\"{fruits = }\")"
   ]
  },
  {
   "attachments": {},
   "cell_type": "markdown",
   "metadata": {},
   "source": [
    "# Mini-uppgift\n",
    "Skriv ett program som ber användaren mata in färger, en i taget, tills användarens input är tom, varje färg skall läggas på en lista och när användarens inmatning är slut så skrivs listan ut, samt hur många färger det är på listan."
   ]
  },
  {
   "cell_type": "code",
   "execution_count": 44,
   "metadata": {},
   "outputs": [
    {
     "name": "stdout",
     "output_type": "stream",
     "text": [
      "[]\n"
     ]
    }
   ],
   "source": [
    "user_input_color = input(\"Enter a color:\")\n",
    "color_list = [user_input_color]\n",
    "while user_input_color != \"\":\n",
    "    user_input_color = input(\"Enter a color: \")\n",
    "    color_list.append(user_input_color)\n",
    "x = len(color_list) - 1\n",
    "del(color_list[x])\n",
    "print(color_list)"
   ]
  },
  {
   "attachments": {},
   "cell_type": "markdown",
   "metadata": {},
   "source": [
    "# How to write good code\n",
    "\n",
    "- Be consistent. Don't use different ways to name your variables. \n",
    "- DRY = Don't Repeat Yourself. \n",
    "- List items can be of any data type, and can contain different data types"
   ]
  },
  {
   "attachments": {},
   "cell_type": "markdown",
   "metadata": {},
   "source": [
    "# Indexering & Slicing\n",
    "- List items are indexed, the first item has index [0], the second item has index [1], etc. \n",
    "- Make sure the index exists, or the program will crash with a \"index out of range\" message\n",
    "- Negative indexing: -1 refers to the last item, -2 refers to the second last item, etc.\n",
    "- Slicing: Specifying a range of indeces returns a new list with the specified items. [start:stop:step(optional)]"
   ]
  },
  {
   "cell_type": "code",
   "execution_count": 46,
   "metadata": {},
   "outputs": [
    {
     "name": "stdout",
     "output_type": "stream",
     "text": [
      "fruits[0] = 'apple'\n",
      "fruits[5] = 'melon'\n"
     ]
    }
   ],
   "source": [
    "print(f\"{fruits[0] = }\")\n",
    "print(f\"{fruits[5] = }\")"
   ]
  },
  {
   "attachments": {},
   "cell_type": "markdown",
   "metadata": {},
   "source": [
    "# Looping through a list"
   ]
  },
  {
   "cell_type": "code",
   "execution_count": 62,
   "metadata": {},
   "outputs": [
    {
     "name": "stdout",
     "output_type": "stream",
     "text": [
      "0: apple\n",
      "1: banana\n",
      "2: cherry\n",
      "3: orange\n",
      "4: apple\n",
      "5: melon\n",
      "6: kiwi\n",
      "7: pear\n",
      "8: coconut\n",
      "9: pinepple\n"
     ]
    }
   ],
   "source": [
    "for index, fruit in  enumerate(fruits[:-3]):\n",
    "    print(f\"{index}: {fruit}\")"
   ]
  },
  {
   "attachments": {},
   "cell_type": "markdown",
   "metadata": {},
   "source": [
    "# List comprehension\n",
    "List comprehension offers a shorter syntax when you want to create a new list based on the values of an existing list.\n",
    "\n",
    "**Basic Syntax:** *[item for item in mu_list]*\n",
    "\n",
    "**Syntax with condition:** *[item for item in my_list if len(item) == 5]*\n",
    "\n",
    "Example:\n",
    "\n",
    "Based on a list of fruits, you want a new list, containing only the fruits with the letter \"a\" in the name.\n",
    "\n",
    "Without list comprehension you will have to write a for statement with a conditional test inside:"
   ]
  },
  {
   "cell_type": "markdown",
   "metadata": {},
   "source": []
  },
  {
   "cell_type": "code",
   "execution_count": 63,
   "metadata": {},
   "outputs": [
    {
     "name": "stdout",
     "output_type": "stream",
     "text": [
      "fruits_with_a = ['apple', 'banana', 'orange', 'apple']\n"
     ]
    }
   ],
   "source": [
    "fruits = [\"apple\", \"banana\", \"cherry\", \"orange\", \"apple\"]\n",
    "fruits_with_a = [fruit for fruit in fruits if \"a\" in fruit]\n",
    "print(f\"{fruits_with_a = }\")"
   ]
  },
  {
   "cell_type": "code",
   "execution_count": 65,
   "metadata": {},
   "outputs": [
    {
     "name": "stdout",
     "output_type": "stream",
     "text": [
      "x = [0, 1, 2, 3, 4, 5, 6, 7, 8, 9]\n",
      "y = [0, 1, 4, 9, 16, 25, 36, 49, 64, 81]\n"
     ]
    }
   ],
   "source": [
    "x = list(range(10))\n",
    "print(f\"{x = }\")\n",
    "\n",
    "y = [item**2 for item in x]\n",
    "print(f\"{y = }\")"
   ]
  },
  {
   "attachments": {},
   "cell_type": "markdown",
   "metadata": {},
   "source": [
    "# Mini Uppgift 2\n",
    "Skapa manuellt en lista i koden med 5 frukter.\n",
    "Använd list comprehension för att skapa en ny lista med samma frukter, men med ett utropstecken i slutet på varje frukt(sträng)"
   ]
  },
  {
   "cell_type": "code",
   "execution_count": 79,
   "metadata": {},
   "outputs": [
    {
     "name": "stdout",
     "output_type": "stream",
     "text": [
      "new_fruits = ['apple!', 'banana!', 'cherry!', 'kiwi!', 'coconut!']\n"
     ]
    }
   ],
   "source": [
    "fruits = [\"apple\", \"banana\", \"cherry\", \"kiwi\" ,\"coconut\"]\n",
    "new_fruits = [fruit + \"!\" for fruit in fruits]\n",
    "print(f\"{new_fruits = }\")"
   ]
  },
  {
   "attachments": {},
   "cell_type": "markdown",
   "metadata": {},
   "source": [
    "# Mini Uppgift 3\n",
    "a) Skapa en lista med alla heltal 0 till 100. Skapa en ny lista som innehåller alla jämna tal från den första listan.\n",
    "\n",
    "b) Skapa en ny lista från listan med frukter som tar med alla frukter där namnet är 5 bokstäver. \n"
   ]
  },
  {
   "cell_type": "code",
   "execution_count": 83,
   "metadata": {},
   "outputs": [
    {
     "name": "stdout",
     "output_type": "stream",
     "text": [
      "new_number_list = [0, 2, 4, 6, 8, 10, 12, 14, 16, 18, 20, 22, 24, 26, 28, 30, 32, 34, 36, 38, 40, 42, 44, 46, 48, 50, 52, 54, 56, 58, 60, 62, 64, 66, 68, 70, 72, 74, 76, 78, 80, 82, 84, 86, 88, 90, 92, 94, 96, 98, 100]\n"
     ]
    }
   ],
   "source": [
    "number_list = list(range(101))\n",
    "even_number_list = [number for number in number_list if number % 2 == 0]\n",
    "print(f\"{even_number_list = }\")"
   ]
  },
  {
   "cell_type": "code",
   "execution_count": 94,
   "metadata": {},
   "outputs": [
    {
     "name": "stdout",
     "output_type": "stream",
     "text": [
      "new_fruit_list = ['apple', 'melon']\n"
     ]
    }
   ],
   "source": [
    "fruits = [\"apple\", \"banana\", \"cherry\", \"kiwi\" ,\"coconut\", \"melon\"]\n",
    "new_fruit_list = [fruit for fruit in fruits if len(fruit) == 5]\n",
    "print(f\"{new_fruit_list = }\")"
   ]
  }
 ],
 "metadata": {
  "kernelspec": {
   "display_name": "Python 3",
   "language": "python",
   "name": "python3"
  },
  "language_info": {
   "codemirror_mode": {
    "name": "ipython",
    "version": 3
   },
   "file_extension": ".py",
   "mimetype": "text/x-python",
   "name": "python",
   "nbconvert_exporter": "python",
   "pygments_lexer": "ipython3",
   "version": "3.11.2 (main, Mar 31 2023, 23:12:54) [Clang 13.0.0 (clang-1300.0.29.30)]"
  },
  "orig_nbformat": 4,
  "vscode": {
   "interpreter": {
    "hash": "39b952706d9a56a0f6b1ae3a62b1b7641d49bf7de4c5a927b030017810e43a37"
   }
  }
 },
 "nbformat": 4,
 "nbformat_minor": 2
}
