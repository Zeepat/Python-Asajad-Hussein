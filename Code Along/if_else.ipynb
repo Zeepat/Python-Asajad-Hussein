{
 "cells": [
  {
   "attachments": {},
   "cell_type": "markdown",
   "metadata": {},
   "source": [
    "# If statements\n",
    "- **if** - Essential part of if-statement\n",
    "- **elif** - Zero, one, or more elif\n",
    "- **else** - Zero or one"
   ]
  },
  {
   "cell_type": "code",
   "execution_count": 26,
   "metadata": {},
   "outputs": [
    {
     "name": "stdout",
     "output_type": "stream",
     "text": [
      "Hello Pelle!\n"
     ]
    }
   ],
   "source": [
    "x = 15\n",
    "name = \"Pelle\"\n",
    "\n",
    "if x < 10 or name == \"Asajad\":\n",
    "    print(\"Yes!\")\n",
    "    print(\"True!\")\n",
    "\n",
    "elif name == \"Kalle\":\n",
    "    print(\"Hello Kalle!\")\n",
    "\n",
    "elif name == \"Pelle\":\n",
    "    print(\"Hello Pelle!\")\n",
    "\n",
    "elif name == \"Anders\":\n",
    "    print(\"Hello Anders!\")\n",
    "\n",
    "else:\n",
    "    print(\"No!\")\n",
    "    print(\"False!\")\n"
   ]
  },
  {
   "cell_type": "code",
   "execution_count": 29,
   "metadata": {},
   "outputs": [
    {
     "name": "stdout",
     "output_type": "stream",
     "text": [
      "Hello Asajad\n"
     ]
    }
   ],
   "source": [
    "name = \"Asajad\"\n",
    "\n",
    "if x < 10 or name == \"Asajad\": print(\"Hello Asajad\")"
   ]
  },
  {
   "attachments": {},
   "cell_type": "markdown",
   "metadata": {},
   "source": [
    "# Ternary operator\n",
    "A special operator that take three operands and returns one of those choices depending on if the middle expression evaluate to true or false. (*TrueValue* if expression else *FalseValue*)"
   ]
  },
  {
   "cell_type": "code",
   "execution_count": 35,
   "metadata": {},
   "outputs": [
    {
     "name": "stdout",
     "output_type": "stream",
     "text": [
      "Asajad Hussein\n",
      "Please wait 1 second\n"
     ]
    }
   ],
   "source": [
    "name = \"Asajad\"\n",
    "lastname = \"Hussein\" if name == \"Asajad\" else \"???\"\n",
    "\n",
    "print(f\"{name} {lastname}\")\n",
    "\n",
    "seconds = 1\n",
    "print(f\"Please wait {seconds} second{'s' if seconds !=1 else ''}\")"
   ]
  }
 ],
 "metadata": {
  "kernelspec": {
   "display_name": "Python 3",
   "language": "python",
   "name": "python3"
  },
  "language_info": {
   "codemirror_mode": {
    "name": "ipython",
    "version": 3
   },
   "file_extension": ".py",
   "mimetype": "text/x-python",
   "name": "python",
   "nbconvert_exporter": "python",
   "pygments_lexer": "ipython3",
   "version": "3.10.11"
  },
  "orig_nbformat": 4
 },
 "nbformat": 4,
 "nbformat_minor": 2
}
