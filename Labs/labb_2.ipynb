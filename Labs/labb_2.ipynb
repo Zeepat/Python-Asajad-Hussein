{
 "cells": [
  {
   "cell_type": "code",
   "execution_count": 5,
   "metadata": {},
   "outputs": [
    {
     "ename": "IndexError",
     "evalue": "list index out of range",
     "output_type": "error",
     "traceback": [
      "\u001b[0;31m---------------------------------------------------------------------------\u001b[0m",
      "\u001b[0;31mIndexError\u001b[0m                                Traceback (most recent call last)",
      "Cell \u001b[0;32mIn[5], line 59\u001b[0m\n\u001b[1;32m     57\u001b[0m new_list_pichu\u001b[39m.\u001b[39msort()\n\u001b[1;32m     58\u001b[0m new_list_pikachu\u001b[39m.\u001b[39msort()\n\u001b[0;32m---> 59\u001b[0m \u001b[39mif\u001b[39;00m new_list_pikachu[\u001b[39m0\u001b[39;49m] \u001b[39m<\u001b[39m new_list_pichu[\u001b[39m0\u001b[39m]:\n\u001b[1;32m     60\u001b[0m     \u001b[39mprint\u001b[39m(\u001b[39m\"\u001b[39m\u001b[39mpikachu\u001b[39m\u001b[39m\"\u001b[39m)\n\u001b[1;32m     61\u001b[0m \u001b[39melif\u001b[39;00m new_list_pikachu[\u001b[39m0\u001b[39m] \u001b[39m>\u001b[39m new_list_pichu[\u001b[39m0\u001b[39m]:\n",
      "\u001b[0;31mIndexError\u001b[0m: list index out of range"
     ]
    }
   ],
   "source": [
    "import csv\n",
    "import matplotlib.pyplot as plt\n",
    "import math\n",
    "\n",
    "def turn_string_into_float(number):\n",
    "    numbers = \"0123456789\"\n",
    "    new_number = \"\"\n",
    "    for i in number:\n",
    "        if i in numbers or i == \".\":\n",
    "            new_number += i\n",
    "    return float(new_number)\n",
    "\n",
    "pichu_width = []\n",
    "pichu_height = []\n",
    "pikachu_width = []\n",
    "pikachu_height = []\n",
    "\n",
    "with open(\"../Data/datapoints.csv\", \"r\") as csvfile:\n",
    "    csvreader = csv.DictReader(csvfile)\n",
    "    for row in csvreader:\n",
    "        if row[\"label\"] == \" 0\":\n",
    "            pichu_width.append(turn_string_into_float(row[\"width(cm)\"]))\n",
    "            if \" \" in row[\"height(cm)\"]:\n",
    "                pichu_height.append(turn_string_into_float(row[\"height(cm)\"]))\n",
    "        elif row[\"label\"] == \" 1\":\n",
    "            pikachu_width.append(turn_string_into_float(row[\"width(cm)\"]))\n",
    "            if \" \" in row[\"height(cm)\"]:\n",
    "                pikachu_height.append(turn_string_into_float(row[\"height(cm)\"]))\n",
    "\n",
    "# plt.scatter(pichu_width, pichu_height, color=\"red\",label=\"pichu\")\n",
    "# plt.scatter(pikachu_width, pikachu_height, color=\"blue\", label=\"pikachu\")\n",
    "# plt.ylim(28, 40)\n",
    "# plt.xlim(15, 28)\n",
    "\n",
    "test_point_width = []\n",
    "test_point_height = [] \n",
    "\n",
    "with open(\"../Data/test_points.csv\") as testfile:\n",
    "    csvreader = csv.DictReader(testfile)\n",
    "    for row in csvreader:\n",
    "        test_point_width.append(turn_string_into_float(row[\"width\"]))\n",
    "        test_point_height.append(turn_string_into_float(row[\"height:\"]))\n",
    "\n",
    "distance_list_pichu = []\n",
    "distance_list_pikachu = []\n",
    "\n",
    "for i in list(range(len(test_point_height))):\n",
    "    for j in list(range(len(pichu_height))):\n",
    "        distance_pichu = math.sqrt((test_point_width[i] - pichu_width[j]) ** 2 + (test_point_height[i] - pichu_height[j]) ** 2)\n",
    "        distance_list_pichu.append(distance_pichu)\n",
    "        distance_pikachu = math.sqrt((test_point_width[i] - pikachu_width[j]) ** 2 + (test_point_height[i] - pikachu_height[j]) ** 2)\n",
    "        distance_list_pikachu.append(distance_pikachu)\n",
    "\n",
    "for i in list(range(len(test_point_height))):\n",
    "    new_list_pichu = distance_list_pichu[(i-1)*75:i*75]\n",
    "    new_list_pikachu = distance_list_pikachu[(i-1)*75:i*75]\n",
    "    new_list_pichu.sort()\n",
    "    new_list_pikachu.sort()\n",
    "    if new_list_pikachu[0] < new_list_pichu[0]:\n",
    "        print(\"pikachu\")\n",
    "    elif new_list_pikachu[0] > new_list_pichu[0]:\n",
    "        print(\"pichu\")\n"
   ]
  }
 ],
 "metadata": {
  "kernelspec": {
   "display_name": "Python-Programming-Asajad-Hussein-wqUMovOj",
   "language": "python",
   "name": "python3"
  },
  "language_info": {
   "codemirror_mode": {
    "name": "ipython",
    "version": 3
   },
   "file_extension": ".py",
   "mimetype": "text/x-python",
   "name": "python",
   "nbconvert_exporter": "python",
   "pygments_lexer": "ipython3",
   "version": "3.11.5"
  },
  "orig_nbformat": 4
 },
 "nbformat": 4,
 "nbformat_minor": 2
}
